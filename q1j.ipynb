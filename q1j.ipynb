{
  "nbformat": 4,
  "nbformat_minor": 0,
  "metadata": {
    "colab": {
      "name": "q1j",
      "version": "0.3.2",
      "provenance": [],
      "collapsed_sections": [],
      "include_colab_link": true
    },
    "kernelspec": {
      "name": "python3",
      "display_name": "Python 3"
    },
    "accelerator": "GPU"
  },
  "cells": [
    {
      "cell_type": "markdown",
      "metadata": {
        "id": "view-in-github",
        "colab_type": "text"
      },
      "source": [
        "<a href=\"https://colab.research.google.com/github/lois-lee/3300/blob/master/q1j.ipynb\" target=\"_parent\"><img src=\"https://colab.research.google.com/assets/colab-badge.svg\" alt=\"Open In Colab\"/></a>"
      ]
    },
    {
      "cell_type": "code",
      "metadata": {
        "id": "8bkC2YOb6l6K",
        "colab_type": "code",
        "colab": {
          "resources": {
            "http://localhost:8080/nbextensions/google.colab/files.js": {
              "data": "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",
              "ok": true,
              "headers": [
                [
                  "content-type",
                  "application/javascript"
                ]
              ],
              "status": 200,
              "status_text": ""
            }
          },
          "base_uri": "https://localhost:8080/",
          "height": 105
        },
        "outputId": "86fdf879-c8cd-44d9-b8f3-b744d8c2cd2b"
      },
      "source": [
        "from google.colab import files\n",
        "uploaded = files.upload()"
      ],
      "execution_count": 2,
      "outputs": [
        {
          "output_type": "display_data",
          "data": {
            "text/html": [
              "\n",
              "     <input type=\"file\" id=\"files-502d4085-a807-4cde-832d-1a276420ea19\" name=\"files[]\" multiple disabled />\n",
              "     <output id=\"result-502d4085-a807-4cde-832d-1a276420ea19\">\n",
              "      Upload widget is only available when the cell has been executed in the\n",
              "      current browser session. Please rerun this cell to enable.\n",
              "      </output>\n",
              "      <script src=\"/nbextensions/google.colab/files.js\"></script> "
            ],
            "text/plain": [
              "<IPython.core.display.HTML object>"
            ]
          },
          "metadata": {
            "tags": []
          }
        },
        {
          "output_type": "stream",
          "text": [
            "Saving test.csv to test.csv\n",
            "Saving train.csv to train.csv\n"
          ],
          "name": "stdout"
        }
      ]
    },
    {
      "cell_type": "code",
      "metadata": {
        "id": "jZFfpkmN6tRK",
        "colab_type": "code",
        "colab": {
          "base_uri": "https://localhost:8080/",
          "height": 34
        },
        "outputId": "ef75970d-d2dd-4938-f034-c37d916a2d28"
      },
      "source": [
        "#######################\n",
        "## IMPLEMENT KNN     ##\n",
        "## CLASSIFIER .      ##\n",
        "#######################\n",
        "import statistics\n",
        "import numpy as np\n",
        "\n",
        "# given a new query \n",
        "def my_knn(query, k, train_set):\n",
        "  k_smallest = []\n",
        "  k_smallest_indices = []\n",
        "  k_smallest_digits = []\n",
        "  count = 0\n",
        "  \n",
        "  \n",
        "  # find the k closest x values\n",
        "  # instantiate k matrix\n",
        "  for i in range(k):\n",
        "    k_smallest.append(100000)  \n",
        "    k_smallest_indices.append(-1)\n",
        "  \n",
        "  # for each data point, calculate the distance between the query and the examples\n",
        "  for d in range(len(train_set)):\n",
        "    \n",
        "    maximum = 0\n",
        "    index_of_max = -1\n",
        "    \n",
        "    dist = np.sqrt(np.sum((np.array(train_set[d][1:]) - np.array(query))**2))\n",
        "\n",
        "    \n",
        "    # if it is smallest than the biggest one, we need to note the index and the digit\n",
        "    # and replace it with this data point\n",
        "    if dist <= max(k_smallest):\n",
        "\n",
        "      for c in range(k): \n",
        "        # get the largest value and its index\n",
        "        if (k_smallest[c] >= maximum):\n",
        "          maximum = k_smallest[c]\n",
        "          index_of_max = k_smallest_indices[c]\n",
        "      # append the index and the distance of the current one\n",
        "      k_smallest_indices.append(d)\n",
        "      k_smallest.append(dist)\n",
        "      \n",
        "      # need to remove the largest of the set as well as that index\n",
        "      k_smallest.remove(max(k_smallest))\n",
        "      k_smallest_indices.remove(index_of_max)\n",
        "      \n",
        "      \n",
        "  # get the digits from the indices list\n",
        "  for c in range(k):\n",
        "    k_smallest_digits.append(train_set[k_smallest_indices[c]][0])\n",
        "    \n",
        "  mode = max(k_smallest_digits, key = k_smallest_digits.count)\n",
        "  if count >= 50:\n",
        "    count = 0\n",
        "    print(mode)\n",
        "    return mode\n",
        "  else:\n",
        "    print(mode, end = '')\n",
        "    count = count + 1\n",
        "    return mode\n",
        "\n",
        "  \n",
        "#testing\n",
        "my_knn([0,1,3,5],5, [[5,4,5,4,3],[5,5,5,5,5],[4,5,5,5,5],[4,5,5,5,5] ,[6,6,6,6,6]])\n"
      ],
      "execution_count": 5,
      "outputs": [
        {
          "output_type": "stream",
          "text": [
            "5"
          ],
          "name": "stdout"
        },
        {
          "output_type": "execute_result",
          "data": {
            "text/plain": [
              "5"
            ]
          },
          "metadata": {
            "tags": []
          },
          "execution_count": 5
        }
      ]
    },
    {
      "cell_type": "code",
      "metadata": {
        "id": "lPf2vWms6zHP",
        "colab_type": "code",
        "colab": {
          "base_uri": "https://localhost:8080/",
          "height": 51
        },
        "outputId": "86b44168-a221-41aa-c3e0-a4c615824be3"
      },
      "source": [
        "########################\n",
        "## READ THE TEST DATA ##\n",
        "########################\n",
        "\n",
        "import sys\n",
        "import random\n",
        "\n",
        "train = []\n",
        "test_matrix = []\n",
        "test_actual = []\n",
        "\n",
        "with open(\"train.csv\") as f:\n",
        "  next(f)\n",
        "  for line in f:\n",
        "    arr = []\n",
        "    pixels = []\n",
        "    # the list of string numbers\n",
        "    matrix = line.split(',')\n",
        "    for x in matrix:\n",
        "      x = x.split('\\r\\n')\n",
        "      for p in x:\n",
        "        if p != '':\n",
        "          # the list of numbers\n",
        "          arr.append(int(p))\n",
        "    train.append(arr)\n",
        "    \n",
        "with open(\"test.csv\") as g:\n",
        "  next(g)\n",
        "  for line in g:\n",
        "    arr = []\n",
        "    pixels = []\n",
        "    # the list of string numbers\n",
        "    matrix = line.split(',')\n",
        "    for x in matrix:\n",
        "      x = x.split('\\r\\n')\n",
        "      for p in x:\n",
        "        if p != '':\n",
        "          # the list of numbers\n",
        "          arr.append(int(p))\n",
        "    test_matrix.append(arr)\n",
        "    \n",
        "          \n",
        "print(len(test_matrix))\n",
        "print(len(train))"
      ],
      "execution_count": 3,
      "outputs": [
        {
          "output_type": "stream",
          "text": [
            "28000\n",
            "42000\n"
          ],
          "name": "stdout"
        }
      ]
    },
    {
      "cell_type": "code",
      "metadata": {
        "id": "BV6cNs2l6-j9",
        "colab_type": "code",
        "colab": {
          "base_uri": "https://localhost:8080/",
          "height": 54
        },
        "outputId": "f1ea232b-562e-4a4c-e37f-fe9e0a7329ad"
      },
      "source": [
        "guesses_1 = []\n",
        "# \n",
        "for x in range(2000):\n",
        "  query_a = test_matrix[x]\n",
        "  guesses_1.append(my_knn(query_a, 5, train))"
      ],
      "execution_count": 21,
      "outputs": [
        {
          "output_type": "stream",
          "text": [
            "20993703035740433190911574277775426255167749878267688382122041700019016588288923541092436720661439740920730508004717113337286387843560003136434558772843565375783045127630278613741248524921606149609769190990846209367216342310204610049173238686285598359713845145633570683160639515840920537199577996303369826271458590039418411984515363130900606318606522677258592786384238164579769537655426213717996111739761119385504123113596653147474852613950847444153997695923561750517441149560131048127948377424276320659418330276875357436907710117053835657302820309211305007562038165411465360482425176917380884536660351716285647433247009859408136261861477830996774818480282433723404813363943877260698113469926018439884050604465181536237893101664757132771515443439078649441471187040400518650153463116983554855040431699113314969154232409743050190452805939615519084672858977281345041423692345423511014911271549176042941153574783272047164615735947966332145377956261093292675232830279409518853296708074587977053219068362290707134639263737234959962615519189459520161922776626359113630060947059087692612930237766313101765333429182064672410526498541639612088036877760212845538784744180919064124582918227253899070359733889325448301796404784596782005059497543754195499578047433660455765517422199811310040276147071033198465986366611407804679596247598518036813031914582291330561836723292159873845821676110509174097598875437947274158235984591511375179236885089471968949963274804908870908708533625317310659329488764407596738950860301838601007369231779599115832541840709007135589794601927485059875019963087526172388146240236332913258776203281543319321136194496675966107888377714610017788982481361336658854598201335633613371565174590230953080771544970313362421659341940351005394910057168370382867918453152253882748570662322919692260400003043678605185602761399303596831009066243027158588474365731671318515226902127449304519697650613840003798699150917908906924219448865613593970765866074537785555368361980944584093094640201759878620037"
          ],
          "name": "stdout"
        }
      ]
    },
    {
      "cell_type": "code",
      "metadata": {
        "id": "S3zZAEKhFCBn",
        "colab_type": "code",
        "colab": {
          "base_uri": "https://localhost:8080/",
          "height": 54
        },
        "outputId": "c70e2a96-d466-4184-cf04-c8f7ce7ae47d"
      },
      "source": [
        "print(guesses_1)\n"
      ],
      "execution_count": 22,
      "outputs": [
        {
          "output_type": "stream",
          "text": [
            "[2, 0, 9, 9, 3, 7, 0, 3, 0, 3, 5, 7, 4, 0, 4, 3, 3, 1, 9, 0, 9, 1, 1, 5, 7, 4, 2, 7, 7, 7, 7, 5, 4, 2, 6, 2, 5, 5, 1, 6, 7, 7, 4, 9, 8, 7, 8, 2, 6, 7, 6, 8, 8, 3, 8, 2, 1, 2, 2, 0, 4, 1, 7, 0, 0, 0, 1, 9, 0, 1, 6, 5, 8, 8, 2, 8, 8, 9, 2, 3, 5, 4, 1, 0, 9, 2, 4, 3, 6, 7, 2, 0, 6, 6, 1, 4, 3, 9, 7, 4, 0, 9, 2, 0, 7, 3, 0, 5, 0, 8, 0, 0, 4, 7, 1, 7, 1, 1, 3, 3, 3, 7, 2, 8, 6, 3, 8, 7, 8, 4, 3, 5, 6, 0, 0, 0, 3, 1, 3, 6, 4, 3, 4, 5, 5, 8, 7, 7, 2, 8, 4, 3, 5, 6, 5, 3, 7, 5, 7, 8, 3, 0, 4, 5, 1, 2, 7, 6, 3, 0, 2, 7, 8, 6, 1, 3, 7, 4, 1, 2, 4, 8, 5, 2, 4, 9, 2, 1, 6, 0, 6, 1, 4, 9, 6, 0, 9, 7, 6, 9, 1, 9, 0, 9, 9, 0, 8, 4, 6, 2, 0, 9, 3, 6, 7, 2, 1, 6, 3, 4, 2, 3, 1, 0, 2, 0, 4, 6, 1, 0, 0, 4, 9, 1, 7, 3, 2, 3, 8, 6, 8, 6, 2, 8, 5, 5, 9, 8, 3, 5, 9, 7, 1, 3, 8, 4, 5, 1, 4, 5, 6, 3, 3, 5, 7, 0, 6, 8, 3, 1, 6, 0, 6, 3, 9, 5, 1, 5, 8, 4, 0, 9, 2, 0, 5, 3, 7, 1, 9, 9, 5, 7, 7, 9, 9, 6, 3, 0, 3, 3, 6, 9, 8, 2, 6, 2, 7, 1, 4, 5, 8, 5, 9, 0, 0, 3, 9, 4, 1, 8, 4, 1, 1, 9, 8, 4, 5, 1, 5, 3, 6, 3, 1, 3, 0, 9, 0, 0, 6, 0, 6, 3, 1, 8, 6, 0, 6, 5, 2, 2, 6, 7, 7, 2, 5, 8, 5, 9, 2, 7, 8, 6, 3, 8, 4, 2, 3, 8, 1, 6, 4, 5, 7, 9, 7, 6, 9, 5, 3, 7, 6, 5, 5, 4, 2, 6, 2, 1, 3, 7, 1, 7, 9, 9, 6, 1, 1, 1, 7, 3, 9, 7, 6, 1, 1, 1, 9, 3, 8, 5, 5, 0, 4, 1, 2, 3, 1, 1, 3, 5, 9, 6, 6, 5, 3, 1, 4, 7, 4, 7, 4, 8, 5, 2, 6, 1, 3, 9, 5, 0, 8, 4, 7, 4, 4, 4, 1, 5, 3, 9, 9, 7, 6, 9, 5, 9, 2, 3, 5, 6, 1, 7, 5, 0, 5, 1, 7, 4, 4, 1, 1, 4, 9, 5, 6, 0, 1, 3, 1, 0, 4, 8, 1, 2, 7, 9, 4, 8, 3, 7, 7, 4, 2, 4, 2, 7, 6, 3, 2, 0, 6, 5, 9, 4, 1, 8, 3, 3, 0, 2, 7, 6, 8, 7, 5, 3, 5, 7, 4, 3, 6, 9, 0, 7, 7, 1, 0, 1, 1, 7, 0, 5, 3, 8, 3, 5, 6, 5, 7, 3, 0, 2, 8, 2, 0, 3, 0, 9, 2, 1, 1, 3, 0, 5, 0, 0, 7, 5, 6, 2, 0, 3, 8, 1, 6, 5, 4, 1, 1, 4, 6, 5, 3, 6, 0, 4, 8, 2, 4, 2, 5, 1, 7, 6, 9, 1, 7, 3, 8, 0, 8, 8, 4, 5, 3, 6, 6, 6, 0, 3, 5, 1, 7, 1, 6, 2, 8, 5, 6, 4, 7, 4, 3, 3, 2, 4, 7, 0, 0, 9, 8, 5, 9, 4, 0, 8, 1, 3, 6, 2, 6, 1, 8, 6, 1, 4, 7, 7, 8, 3, 0, 9, 9, 6, 7, 7, 4, 8, 1, 8, 4, 8, 0, 2, 8, 2, 4, 3, 3, 7, 2, 3, 4, 0, 4, 8, 1, 3, 3, 6, 3, 9, 4, 3, 8, 7, 7, 2, 6, 0, 6, 9, 8, 1, 1, 3, 4, 6, 9, 9, 2, 6, 0, 1, 8, 4, 3, 9, 8, 8, 4, 0, 5, 0, 6, 0, 4, 4, 6, 5, 1, 8, 1, 5, 3, 6, 2, 3, 7, 8, 9, 3, 1, 0, 1, 6, 6, 4, 7, 5, 7, 1, 3, 2, 7, 7, 1, 5, 1, 5, 4, 4, 3, 4, 3, 9, 0, 7, 8, 6, 4, 9, 4, 4, 1, 4, 7, 1, 1, 8, 7, 0, 4, 0, 4, 0, 0, 5, 1, 8, 6, 5, 0, 1, 5, 3, 4, 6, 3, 1, 1, 6, 9, 8, 3, 5, 5, 4, 8, 5, 5, 0, 4, 0, 4, 3, 1, 6, 9, 9, 1, 1, 3, 3, 1, 4, 9, 6, 9, 1, 5, 4, 2, 3, 2, 4, 0, 9, 7, 4, 3, 0, 5, 0, 1, 9, 0, 4, 5, 2, 8, 0, 5, 9, 3, 9, 6, 1, 5, 5, 1, 9, 0, 8, 4, 6, 7, 2, 8, 5, 8, 9, 7, 7, 2, 8, 1, 3, 4, 5, 0, 4, 1, 4, 2, 3, 6, 9, 2, 3, 4, 5, 4, 2, 3, 5, 1, 1, 0, 1, 4, 9, 1, 1, 2, 7, 1, 5, 4, 9, 1, 7, 6, 0, 4, 2, 9, 4, 1, 1, 5, 3, 5, 7, 4, 7, 8, 3, 2, 7, 2, 0, 4, 7, 1, 6, 4, 6, 1, 5, 7, 3, 5, 9, 4, 7, 9, 6, 6, 3, 3, 2, 1, 4, 5, 3, 7, 7, 9, 5, 6, 2, 6, 1, 0, 9, 3, 2, 9, 2, 6, 7, 5, 2, 3, 2, 8, 3, 0, 2, 7, 9, 4, 0, 9, 5, 1, 8, 8, 5, 3, 2, 9, 6, 7, 0, 8, 0, 7, 4, 5, 8, 7, 9, 7, 7, 0, 5, 3, 2, 1, 9, 0, 6, 8, 3, 6, 2, 2, 9, 0, 7, 0, 7, 1, 3, 4, 6, 3, 9, 2, 6, 3, 7, 3, 7, 2, 3, 4, 9, 5, 9, 9, 6, 2, 6, 1, 5, 5, 1, 9, 1, 8, 9, 4, 5, 9, 5, 2, 0, 1, 6, 1, 9, 2, 2, 7, 7, 6, 6, 2, 6, 3, 5, 9, 1, 1, 3, 6, 3, 0, 0, 6, 0, 9, 4, 7, 0, 5, 9, 0, 8, 7, 6, 9, 2, 6, 1, 2, 9, 3, 0, 2, 3, 7, 7, 6, 6, 3, 1, 3, 1, 0, 1, 7, 6, 5, 3, 3, 3, 4, 2, 9, 1, 8, 2, 0, 6, 4, 6, 7, 2, 4, 1, 0, 5, 2, 6, 4, 9, 8, 5, 4, 1, 6, 3, 9, 6, 1, 2, 0, 8, 8, 0, 3, 6, 8, 7, 7, 7, 6, 0, 2, 1, 2, 8, 4, 5, 5, 3, 8, 7, 8, 4, 7, 4, 4, 1, 8, 0, 9, 1, 9, 0, 6, 4, 1, 2, 4, 5, 8, 2, 9, 1, 8, 2, 2, 7, 2, 5, 3, 8, 9, 9, 0, 7, 0, 3, 5, 9, 7, 3, 3, 8, 8, 9, 3, 2, 5, 4, 4, 8, 3, 0, 1, 7, 9, 6, 4, 0, 4, 7, 8, 4, 5, 9, 6, 7, 8, 2, 0, 0, 5, 0, 5, 9, 4, 9, 7, 5, 4, 3, 7, 5, 4, 1, 9, 5, 4, 9, 9, 5, 7, 8, 0, 4, 7, 4, 3, 3, 6, 6, 0, 4, 5, 5, 7, 6, 5, 5, 1, 7, 4, 2, 2, 1, 9, 9, 8, 1, 1, 3, 1, 0, 0, 4, 0, 2, 7, 6, 1, 4, 7, 0, 7, 1, 0, 3, 3, 1, 9, 8, 4, 6, 5, 9, 8, 6, 3, 6, 6, 6, 1, 1, 4, 0, 7, 8, 0, 4, 6, 7, 9, 5, 9, 6, 2, 4, 7, 5, 9, 8, 5, 1, 8, 0, 3, 6, 8, 1, 3, 0, 3, 1, 9, 1, 4, 5, 8, 2, 2, 9, 1, 3, 3, 0, 5, 6, 1, 8, 3, 6, 7, 2, 3, 2, 9, 2, 1, 5, 9, 8, 7, 3, 8, 4, 5, 8, 2, 1, 6, 7, 6, 1, 1, 0, 5, 0, 9, 1, 7, 4, 0, 9, 7, 5, 9, 8, 8, 7, 5, 4, 3, 7, 9, 4, 7, 2, 7, 4, 1, 5, 8, 2, 3, 5, 9, 8, 4, 5, 9, 1, 5, 1, 1, 3, 7, 5, 1, 7, 9, 2, 3, 6, 8, 8, 5, 0, 8, 9, 4, 7, 1, 9, 6, 8, 9, 4, 9, 9, 6, 3, 2, 7, 4, 8, 0, 4, 9, 0, 8, 8, 7, 0, 9, 0, 8, 7, 0, 8, 5, 3, 3, 6, 2, 5, 3, 1, 7, 3, 1, 0, 6, 5, 9, 3, 2, 9, 4, 8, 8, 7, 6, 4, 4, 0, 7, 5, 9, 6, 7, 3, 8, 9, 5, 0, 8, 6, 0, 3, 0, 1, 8, 3, 8, 6, 0, 1, 0, 0, 7, 3, 6, 9, 2, 3, 1, 7, 7, 9, 5, 9, 9, 1, 1, 5, 8, 3, 2, 5, 4, 1, 8, 4, 0, 7, 0, 9, 0, 0, 7, 1, 3, 5, 5, 8, 9, 7, 9, 4, 6, 0, 1, 9, 2, 7, 4, 8, 5, 0, 5, 9, 8, 7, 5, 0, 1, 9, 9, 6, 3, 0, 8, 7, 5, 2, 6, 1, 7, 2, 3, 8, 8, 1, 4, 6, 2, 4, 0, 2, 3, 6, 3, 3, 2, 9, 1, 3, 2, 5, 8, 7, 7, 6, 2, 0, 3, 2, 8, 1, 5, 4, 3, 3, 1, 9, 3, 2, 1, 1, 3, 6, 1, 9, 4, 4, 9, 6, 6, 7, 5, 9, 6, 6, 1, 0, 7, 8, 8, 8, 3, 7, 7, 7, 1, 4, 6, 1, 0, 0, 1, 7, 7, 8, 8, 9, 8, 2, 4, 8, 1, 3, 6, 1, 3, 3, 6, 6, 5, 8, 8, 5, 4, 5, 9, 8, 2, 0, 1, 3, 3, 5, 6, 3, 3, 6, 1, 3, 3, 7, 1, 5, 6, 5, 1, 7, 4, 5, 9, 0, 2, 3, 0, 9, 5, 3, 0, 8, 0, 7, 7, 1, 5, 4, 4, 9, 7, 0, 3, 1, 3, 3, 6, 2, 4, 2, 1, 6, 5, 9, 3, 4, 1, 9, 4, 0, 3, 5, 1, 0, 0, 5, 3, 9, 4, 9, 1, 0, 0, 5, 7, 1, 6, 8, 3, 7, 0, 3, 8, 2, 8, 6, 7, 9, 1, 8, 4, 5, 3, 1, 5, 2, 2, 5, 3, 8, 8, 2, 7, 4, 8, 5, 7, 0, 6, 6, 2, 3, 2, 2, 9, 1, 9, 6, 9, 2, 2, 6, 0, 4, 0, 0, 0, 0, 3, 0, 4, 3, 6, 7, 8, 6, 0, 5, 1, 8, 5, 6, 0, 2, 7, 6, 1, 3, 9, 9, 3, 0, 3, 5, 9, 6, 8, 3, 1, 0, 0, 9, 0, 6, 6, 2, 4, 3, 0, 2, 7, 1, 5, 8, 5, 8, 8, 4, 7, 4, 3, 6, 5, 7, 3, 1, 6, 7, 1, 3, 1, 8, 5, 1, 5, 2, 2, 6, 9, 0, 2, 1, 2, 7, 4, 4, 9, 3, 0, 4, 5, 1, 9, 6, 9, 7, 6, 5, 0, 6, 1, 3, 8, 4, 0, 0, 0, 3, 7, 9, 8, 6, 9, 9, 1, 5, 0, 9, 1, 7, 9, 0, 8, 9, 0, 6, 9, 2, 4, 2, 1, 9, 4, 4, 8, 8, 6, 5, 6, 1, 3, 5, 9, 3, 9, 7, 0, 7, 6, 5, 8, 6, 6, 0, 7, 4, 5, 3, 7, 7, 8, 5, 5, 5, 5, 3, 6, 8, 3, 6, 1, 9, 8, 0, 9, 4, 4, 5, 8, 4, 0, 9, 3, 0, 9, 4, 6, 4, 0, 2, 0, 1, 7, 5, 9, 8, 7, 8, 6, 2, 0, 0, 3, 7]\n"
          ],
          "name": "stdout"
        }
      ]
    },
    {
      "cell_type": "code",
      "metadata": {
        "id": "NXKbWyAf7tPP",
        "colab_type": "code",
        "colab": {
          "base_uri": "https://localhost:8080/",
          "height": 54
        },
        "outputId": "c9fbbecd-0626-4b9a-b05f-27b0b3ddc40c"
      },
      "source": [
        "guesses_2 = []\n",
        "# \n",
        "for x in range(2000,4000):\n",
        "  query_a = test_matrix[x]\n",
        "  guesses_2.append(my_knn(query_a, 5, train))"
      ],
      "execution_count": 7,
      "outputs": [
        {
          "output_type": "stream",
          "text": [
            "86167259711416670847094626732965258563227734928024094588933590705529199464689008216823025573359623437792669580674224062192675670682445768146615258011470365052089157336165952074027446046791747947485955193240266804312673771554012211422117948089389463339036914606059018042015345768879032605596542143648722034533164597012532642593463582898759994673699660949741728805671808094242116767536634878870077160399851701959901909742255005943425003335901159225344108355691987033810339731963340213951797961566904229376414241022102726520200503306641592409113011502473687887269457136099468641033018915773462930768824029839901677646876133521641996464594993251622728474101907490974096749702852424526688674148325909014977395319267910516886737285508156499169853778147040643196300289911813231038507206181182261797675196376444082086481929515114701246142929264555896116121947471064653340116051216439040314921709685860879931323112007781606743672289942773517737812561977789978957950761552705695822297951114561707927231571516026997987775629884731348202631099168866836166206082286485040097929285358795730280526993922337458586331268552741936882583916967581086751789388394876953099687912321529444300316110562760447070871378909001887483590363650426930945774239288019422182735130221791891697189920615209255340909404378040248215258561486213953787811564755408160337884343217094286852848143112153672476912868762011063973194697178135127665045963912413401802927791473399137849797154000358304128108834693272611018137491350351861296661903984636899518020895201092818287569957464960043571219213191858793236175226370567968609591195076255660438435026507606053619384532544061203550411339336490697985791463684971686794209991668063776701654562539513969706276003812430813956513671518173795249686608177190149173162272415613322917486563813956753377180639336020101132290381059833136527798571743944320003114342278474049107121624046051426297343901486211732922521025000427302190853822027040302280923024871422167663367391235010979085147648122642982658317"
          ],
          "name": "stdout"
        }
      ]
    },
    {
      "cell_type": "code",
      "metadata": {
        "id": "Ue8tYTzXY1bM",
        "colab_type": "code",
        "colab": {
          "base_uri": "https://localhost:8080/",
          "height": 54
        },
        "outputId": "6ee22d42-2691-447a-9703-87ff7596307c"
      },
      "source": [
        "print(guesses_2)"
      ],
      "execution_count": 8,
      "outputs": [
        {
          "output_type": "stream",
          "text": [
            "[8, 6, 1, 6, 7, 2, 5, 9, 7, 1, 1, 4, 1, 6, 6, 7, 0, 8, 4, 7, 0, 9, 4, 6, 2, 6, 7, 3, 2, 9, 6, 5, 2, 5, 8, 5, 6, 3, 2, 2, 7, 7, 3, 4, 9, 2, 8, 0, 2, 4, 0, 9, 4, 5, 8, 8, 9, 3, 3, 5, 9, 0, 7, 0, 5, 5, 2, 9, 1, 9, 9, 4, 6, 4, 6, 8, 9, 0, 0, 8, 2, 1, 6, 8, 2, 3, 0, 2, 5, 5, 7, 3, 3, 5, 9, 6, 2, 3, 4, 3, 7, 7, 9, 2, 6, 6, 9, 5, 8, 0, 6, 7, 4, 2, 2, 4, 0, 6, 2, 1, 9, 2, 6, 7, 5, 6, 7, 0, 6, 8, 2, 4, 4, 5, 7, 6, 8, 1, 4, 6, 6, 1, 5, 2, 5, 8, 0, 1, 1, 4, 7, 0, 3, 6, 5, 0, 5, 2, 0, 8, 9, 1, 5, 7, 3, 3, 6, 1, 6, 5, 9, 5, 2, 0, 7, 4, 0, 2, 7, 4, 4, 6, 0, 4, 6, 7, 9, 1, 7, 4, 7, 9, 4, 7, 4, 8, 5, 9, 5, 5, 1, 9, 3, 2, 4, 0, 2, 6, 6, 8, 0, 4, 3, 1, 2, 6, 7, 3, 7, 7, 1, 5, 5, 4, 0, 1, 2, 2, 1, 1, 4, 2, 2, 1, 1, 7, 9, 4, 8, 0, 8, 9, 3, 8, 9, 4, 6, 3, 3, 3, 9, 0, 3, 6, 9, 1, 4, 6, 0, 6, 0, 5, 9, 0, 1, 8, 0, 4, 2, 0, 1, 5, 3, 4, 5, 7, 6, 8, 8, 7, 9, 0, 3, 2, 6, 0, 5, 5, 9, 6, 5, 4, 2, 1, 4, 3, 6, 4, 8, 7, 2, 2, 0, 3, 4, 5, 3, 3, 1, 6, 4, 5, 9, 7, 0, 1, 2, 5, 3, 2, 6, 4, 2, 5, 9, 3, 4, 6, 3, 5, 8, 2, 8, 9, 8, 7, 5, 9, 9, 9, 4, 6, 7, 3, 6, 9, 9, 6, 6, 0, 9, 4, 9, 7, 4, 1, 7, 2, 8, 8, 0, 5, 6, 7, 1, 8, 0, 8, 0, 9, 4, 2, 4, 2, 1, 1, 6, 7, 6, 7, 5, 3, 6, 6, 3, 4, 8, 7, 8, 8, 7, 0, 0, 7, 7, 1, 6, 0, 3, 9, 9, 8, 5, 1, 7, 0, 1, 9, 5, 9, 9, 0, 1, 9, 0, 9, 7, 4, 2, 2, 5, 5, 0, 0, 5, 9, 4, 3, 4, 2, 5, 0, 0, 3, 3, 3, 5, 9, 0, 1, 1, 5, 9, 2, 2, 5, 3, 4, 4, 1, 0, 8, 3, 5, 5, 6, 9, 1, 9, 8, 7, 0, 3, 3, 8, 1, 0, 3, 3, 9, 7, 3, 1, 9, 6, 3, 3, 4, 0, 2, 1, 3, 9, 5, 1, 7, 9, 7, 9, 6, 1, 5, 6, 6, 9, 0, 4, 2, 2, 9, 3, 7, 6, 4, 1, 4, 2, 4, 1, 0, 2, 2, 1, 0, 2, 7, 2, 6, 5, 2, 0, 2, 0, 0, 5, 0, 3, 3, 0, 6, 6, 4, 1, 5, 9, 2, 4, 0, 9, 1, 1, 3, 0, 1, 1, 5, 0, 2, 4, 7, 3, 6, 8, 7, 8, 8, 7, 2, 6, 9, 4, 5, 7, 1, 3, 6, 0, 9, 9, 4, 6, 8, 6, 4, 1, 0, 3, 3, 0, 1, 8, 9, 1, 5, 7, 7, 3, 4, 6, 2, 9, 3, 0, 7, 6, 8, 8, 2, 4, 0, 2, 9, 8, 3, 9, 9, 0, 1, 6, 7, 7, 6, 4, 6, 8, 7, 6, 1, 3, 3, 5, 2, 1, 6, 4, 1, 9, 9, 6, 4, 6, 4, 5, 9, 4, 9, 9, 3, 2, 5, 1, 6, 2, 2, 7, 2, 8, 4, 7, 4, 1, 0, 1, 9, 0, 7, 4, 9, 0, 9, 7, 4, 0, 9, 6, 7, 4, 9, 7, 0, 2, 8, 5, 2, 4, 2, 4, 5, 2, 6, 6, 8, 8, 6, 7, 4, 1, 4, 8, 3, 2, 5, 9, 0, 9, 0, 1, 4, 9, 7, 7, 3, 9, 5, 3, 1, 9, 2, 6, 7, 9, 1, 0, 5, 1, 6, 8, 8, 6, 7, 3, 7, 2, 8, 5, 5, 0, 8, 1, 5, 6, 4, 9, 9, 1, 6, 9, 8, 5, 3, 7, 7, 8, 1, 4, 7, 0, 4, 0, 6, 4, 3, 1, 9, 6, 3, 0, 0, 2, 8, 9, 9, 1, 1, 8, 1, 3, 2, 3, 1, 0, 3, 8, 5, 0, 7, 2, 0, 6, 1, 8, 1, 1, 8, 2, 2, 6, 1, 7, 9, 7, 6, 7, 5, 1, 9, 6, 3, 7, 6, 4, 4, 4, 0, 8, 2, 0, 8, 6, 4, 8, 1, 9, 2, 9, 5, 1, 5, 1, 1, 4, 7, 0, 1, 2, 4, 6, 1, 4, 2, 9, 2, 9, 2, 6, 4, 5, 5, 5, 8, 9, 6, 1, 1, 6, 1, 2, 1, 9, 4, 7, 4, 7, 1, 0, 6, 4, 6, 5, 3, 3, 4, 0, 1, 1, 6, 0, 5, 1, 2, 1, 6, 4, 3, 9, 0, 4, 0, 3, 1, 4, 9, 2, 1, 7, 0, 9, 6, 8, 5, 8, 6, 0, 8, 7, 9, 9, 3, 1, 3, 2, 3, 1, 1, 2, 0, 0, 7, 7, 8, 1, 6, 0, 6, 7, 4, 3, 6, 7, 2, 2, 8, 9, 9, 4, 2, 7, 7, 3, 5, 1, 7, 7, 3, 7, 8, 1, 2, 5, 6, 1, 9, 7, 7, 7, 8, 9, 9, 7, 8, 9, 5, 7, 9, 5, 0, 7, 6, 1, 5, 5, 2, 7, 0, 5, 6, 9, 5, 8, 2, 2, 2, 9, 7, 9, 5, 1, 1, 1, 4, 5, 6, 1, 7, 0, 7, 9, 2, 7, 2, 3, 1, 5, 7, 1, 5, 1, 6, 0, 2, 6, 9, 9, 7, 9, 8, 7, 7, 7, 5, 6, 2, 9, 8, 8, 4, 7, 3, 1, 3, 4, 8, 2, 0, 2, 6, 3, 1, 0, 9, 9, 1, 6, 8, 8, 6, 6, 8, 3, 6, 1, 6, 6, 2, 0, 6, 0, 8, 2, 2, 8, 6, 4, 8, 5, 0, 4, 0, 0, 9, 7, 9, 2, 9, 2, 8, 5, 3, 5, 8, 7, 9, 5, 7, 3, 0, 2, 8, 0, 5, 2, 6, 9, 9, 3, 9, 2, 2, 3, 3, 7, 4, 5, 8, 5, 8, 6, 3, 3, 1, 2, 6, 8, 5, 5, 2, 7, 4, 1, 9, 3, 6, 8, 8, 2, 5, 8, 3, 9, 1, 6, 9, 6, 7, 5, 8, 1, 0, 8, 6, 7, 5, 1, 7, 8, 9, 3, 8, 8, 3, 9, 4, 8, 7, 6, 9, 5, 3, 0, 9, 9, 6, 8, 7, 9, 1, 2, 3, 2, 1, 5, 2, 9, 4, 4, 4, 3, 0, 0, 3, 1, 6, 1, 1, 0, 5, 6, 2, 7, 6, 0, 4, 4, 7, 0, 7, 0, 8, 7, 1, 3, 7, 8, 9, 0, 9, 0, 0, 1, 8, 8, 7, 4, 8, 3, 5, 9, 0, 3, 6, 3, 6, 5, 0, 4, 2, 6, 9, 3, 0, 9, 4, 5, 7, 7, 4, 2, 3, 9, 2, 8, 8, 0, 1, 9, 4, 2, 2, 1, 8, 2, 7, 3, 5, 1, 3, 0, 2, 2, 1, 7, 9, 1, 8, 9, 1, 6, 9, 7, 1, 8, 9, 9, 2, 0, 6, 1, 5, 2, 0, 9, 2, 5, 5, 3, 4, 0, 9, 0, 9, 4, 0, 4, 3, 7, 8, 0, 4, 0, 2, 4, 8, 2, 1, 5, 2, 5, 8, 5, 6, 1, 4, 8, 6, 2, 1, 3, 9, 5, 3, 7, 8, 7, 8, 1, 1, 5, 6, 4, 7, 5, 5, 4, 0, 8, 1, 6, 0, 3, 3, 7, 8, 8, 4, 3, 4, 3, 2, 1, 7, 0, 9, 4, 2, 8, 6, 8, 5, 2, 8, 4, 8, 1, 4, 3, 1, 1, 2, 1, 5, 3, 6, 7, 2, 4, 7, 6, 9, 1, 2, 8, 6, 8, 7, 6, 2, 0, 1, 1, 0, 6, 3, 9, 7, 3, 1, 9, 4, 6, 9, 7, 1, 7, 8, 1, 3, 5, 1, 2, 7, 6, 6, 5, 0, 4, 5, 9, 6, 3, 9, 1, 2, 4, 1, 3, 4, 0, 1, 8, 0, 2, 9, 2, 7, 7, 9, 1, 4, 7, 3, 3, 9, 9, 1, 3, 7, 8, 4, 9, 7, 9, 7, 1, 5, 4, 0, 0, 0, 3, 5, 8, 3, 0, 4, 1, 2, 8, 1, 0, 8, 8, 3, 4, 6, 9, 3, 2, 7, 2, 6, 1, 1, 0, 1, 8, 1, 3, 7, 4, 9, 1, 3, 5, 0, 3, 5, 1, 8, 6, 1, 2, 9, 6, 6, 6, 1, 9, 0, 3, 9, 8, 4, 6, 3, 6, 8, 9, 9, 5, 1, 8, 0, 2, 0, 8, 9, 5, 2, 0, 1, 0, 9, 2, 8, 1, 8, 2, 8, 7, 5, 6, 9, 9, 5, 7, 4, 6, 4, 9, 6, 0, 0, 4, 3, 5, 7, 1, 2, 1, 9, 2, 1, 3, 1, 9, 1, 8, 5, 8, 7, 9, 3, 2, 3, 6, 1, 7, 5, 2, 2, 6, 3, 7, 0, 5, 6, 7, 9, 6, 8, 6, 0, 9, 5, 9, 1, 1, 9, 5, 0, 7, 6, 2, 5, 5, 6, 6, 0, 4, 3, 8, 4, 3, 5, 0, 2, 6, 5, 0, 7, 6, 0, 6, 0, 5, 3, 6, 1, 9, 3, 8, 4, 5, 3, 2, 5, 4, 4, 0, 6, 1, 2, 0, 3, 5, 5, 0, 4, 1, 1, 3, 3, 9, 3, 3, 6, 4, 9, 0, 6, 9, 7, 9, 8, 5, 7, 9, 1, 4, 6, 3, 6, 8, 4, 9, 7, 1, 6, 8, 6, 7, 9, 4, 2, 0, 9, 9, 9, 1, 6, 6, 8, 0, 6, 3, 7, 7, 6, 7, 0, 1, 6, 5, 4, 5, 6, 2, 5, 3, 9, 5, 1, 3, 9, 6, 9, 7, 0, 6, 2, 7, 6, 0, 0, 3, 8, 1, 2, 4, 3, 0, 8, 1, 3, 9, 5, 6, 5, 1, 3, 6, 7, 1, 5, 1, 8, 1, 7, 3, 7, 9, 5, 2, 4, 9, 6, 8, 6, 6, 0, 8, 1, 7, 7, 1, 9, 0, 1, 4, 9, 1, 7, 3, 1, 6, 2, 2, 7, 2, 4, 1, 5, 6, 1, 3, 3, 2, 2, 9, 1, 7, 4, 8, 6, 5, 6, 3, 8, 1, 3, 9, 5, 6, 7, 5, 3, 3, 7, 7, 1, 8, 0, 6, 3, 9, 3, 3, 6, 0, 2, 0, 1, 0, 1, 1, 3, 2, 2, 9, 0, 3, 8, 1, 0, 5, 9, 8, 3, 3, 1, 3, 6, 5, 2, 7, 7, 9, 8, 5, 7, 1, 7, 4, 3, 9, 4, 4, 3, 2, 0, 0, 0, 3, 1, 1, 4, 3, 4, 2, 2, 7, 8, 4, 7, 4, 0, 4, 9, 1, 0, 7, 1, 2, 1, 6, 2, 4, 0, 4, 6, 0, 5, 1, 4, 2, 6, 2, 9, 7, 3, 4, 3, 9, 0, 1, 4, 8, 6, 2, 1, 1, 7, 3, 2, 9, 2, 2, 5, 2, 1, 0, 2, 5, 0, 0, 0, 4, 2, 7, 3, 0, 2, 1, 9, 0, 8, 5, 3, 8, 2, 2, 0, 2, 7, 0, 4, 0, 3, 0, 2, 2, 8, 0, 9, 2, 3, 0, 2, 4, 8, 7, 1, 4, 2, 2, 1, 6, 7, 6, 6, 3, 3, 6, 7, 3, 9, 1, 2, 3, 5, 0, 1, 0, 9, 7, 9, 0, 8, 5, 1, 4, 7, 6, 4, 8, 1, 2, 2, 6, 4, 2, 9, 8, 2, 6, 5, 8, 3, 1, 7]\n"
          ],
          "name": "stdout"
        }
      ]
    },
    {
      "cell_type": "code",
      "metadata": {
        "id": "-Igl0_uluYLy",
        "colab_type": "code",
        "colab": {
          "base_uri": "https://localhost:8080/",
          "height": 54
        },
        "outputId": "41f2304b-ad65-45fb-b1a5-bceda98b4fca"
      },
      "source": [
        "guesses_3 = []\n",
        "# \n",
        "for x in range(4000,6000):\n",
        "  query_a = test_matrix[x]\n",
        "  guesses_3.append(my_knn(query_a, 5, train))"
      ],
      "execution_count": 7,
      "outputs": [
        {
          "output_type": "stream",
          "text": [
            "46013814086616239156614036056894777887527811954101323633127177003002007178667166949134049246274750375669035289822971772732284022811222301639439790735230199792747065195272256858233147384874190480656520331614111139104295595525080424387940149443208410932469061174787370184254891027794476941788342418787494736916101816933655819237992983451496135696535450268999667582095019723304831390384946896908650486009142563888824276478698635439930829169101876554173911239072241777835162108725118696698174916780761681390753270614097065170166148689510220783518376984910335927633800975503072107157025426131136684230144188976751925914394698508470080470227969561114879622285711129181371064765912884437179288613456870015455732099495036331740027718745019745098633168809917374030499380901612025706972253643259352954172539724081978466306706022300334214330032415924958999110090820986237063819209289436020653412249432191610340194004819233437079745977042278504988241414109956492260302304010849371417607715036028485772967816731731801043729793623413099264007518381658922071671684359135319258636092513744410631043617627170696513681986693682406185140999484164918923461016790081425284697185549335300592537659650213857707715670430000768867131023518617636683851526515835532385867038842645830511309678253620651299025561413155019395079830135518570964830604582154014173929121766159890231701527325924051591094548713324118032990970992761716029997824093894203303948556968476749421081360199695071367334847912957439395079221832787128747094003342076327412744237580579713542479964549196562868389688640201384877780795337464729640468849443696418578528870507234781553525056474119199484376201896745753160324518118585852701519099207313478012932620501619778684071013490945169466611358248898111835656287981990662383005092133388999567172916350776518134582428045197428858687497442691990683364668174372851268001784960739927420526417304316147210339096602830588535080733251165472290820508041677850264689664943763176149066320343181330668623342060219661770294"
          ],
          "name": "stdout"
        }
      ]
    },
    {
      "cell_type": "code",
      "metadata": {
        "id": "3Xm0Ep-IrdQv",
        "colab_type": "code",
        "colab": {
          "base_uri": "https://localhost:8080/",
          "height": 54
        },
        "outputId": "4f44b321-27ea-4d68-b146-6b8467da9a90"
      },
      "source": [
        "print(guesses_3)"
      ],
      "execution_count": 8,
      "outputs": [
        {
          "output_type": "stream",
          "text": [
            "[4, 6, 0, 1, 3, 8, 1, 4, 0, 8, 6, 6, 1, 6, 2, 3, 9, 1, 5, 6, 6, 1, 4, 0, 3, 6, 0, 5, 6, 8, 9, 4, 7, 7, 7, 8, 8, 7, 5, 2, 7, 8, 1, 1, 9, 5, 4, 1, 0, 1, 3, 2, 3, 6, 3, 3, 1, 2, 7, 1, 7, 7, 0, 0, 3, 0, 0, 2, 0, 0, 7, 1, 7, 8, 6, 6, 7, 1, 6, 6, 9, 4, 9, 1, 3, 4, 0, 4, 9, 2, 4, 6, 2, 7, 4, 7, 5, 0, 3, 7, 5, 6, 6, 9, 0, 3, 5, 2, 8, 9, 8, 2, 2, 9, 7, 1, 7, 7, 2, 7, 3, 2, 2, 8, 4, 0, 2, 2, 8, 1, 1, 2, 2, 2, 3, 0, 1, 6, 3, 9, 4, 3, 9, 7, 9, 0, 7, 3, 5, 2, 3, 0, 1, 9, 9, 7, 9, 2, 7, 4, 7, 0, 6, 5, 1, 9, 5, 2, 7, 2, 2, 5, 6, 8, 5, 8, 2, 3, 3, 1, 4, 7, 3, 8, 4, 8, 7, 4, 1, 9, 0, 4, 8, 0, 6, 5, 6, 5, 2, 0, 3, 3, 1, 6, 1, 4, 1, 1, 1, 1, 3, 9, 1, 0, 4, 2, 9, 5, 5, 9, 5, 5, 2, 5, 0, 8, 0, 4, 2, 4, 3, 8, 7, 9, 4, 0, 1, 4, 9, 4, 4, 3, 2, 0, 8, 4, 1, 0, 9, 3, 2, 4, 6, 9, 0, 6, 1, 1, 7, 4, 7, 8, 7, 3, 7, 0, 1, 8, 4, 2, 5, 4, 8, 9, 1, 0, 2, 7, 7, 9, 4, 4, 7, 6, 9, 4, 1, 7, 8, 8, 3, 4, 2, 4, 1, 8, 7, 8, 7, 4, 9, 4, 7, 3, 6, 9, 1, 6, 1, 0, 1, 8, 1, 6, 9, 3, 3, 6, 5, 5, 8, 1, 9, 2, 3, 7, 9, 9, 2, 9, 8, 3, 4, 5, 1, 4, 9, 6, 1, 3, 5, 6, 9, 6, 5, 3, 5, 4, 5, 0, 2, 6, 8, 9, 9, 9, 6, 6, 7, 5, 8, 2, 0, 9, 5, 0, 1, 9, 7, 2, 3, 3, 0, 4, 8, 3, 1, 3, 9, 0, 3, 8, 4, 9, 4, 6, 8, 9, 6, 9, 0, 8, 6, 5, 0, 4, 8, 6, 0, 0, 9, 1, 4, 2, 5, 6, 3, 8, 8, 8, 8, 2, 4, 2, 7, 6, 4, 7, 8, 6, 9, 8, 6, 3, 5, 4, 3, 9, 9, 3, 0, 8, 2, 9, 1, 6, 9, 1, 0, 1, 8, 7, 6, 5, 5, 4, 1, 7, 3, 9, 1, 1, 2, 3, 9, 0, 7, 2, 2, 4, 1, 7, 7, 7, 8, 3, 5, 1, 6, 2, 1, 0, 8, 7, 2, 5, 1, 1, 8, 6, 9, 6, 6, 9, 8, 1, 7, 4, 9, 1, 6, 7, 8, 0, 7, 6, 1, 6, 8, 1, 3, 9, 0, 7, 5, 3, 2, 7, 0, 6, 1, 4, 0, 9, 7, 0, 6, 5, 1, 7, 0, 1, 6, 6, 1, 4, 8, 6, 8, 9, 5, 1, 0, 2, 2, 0, 7, 8, 3, 5, 1, 8, 3, 7, 6, 9, 8, 4, 9, 1, 0, 3, 3, 5, 9, 2, 7, 6, 3, 3, 8, 0, 0, 9, 7, 5, 5, 0, 3, 0, 7, 2, 1, 0, 7, 1, 5, 7, 0, 2, 5, 4, 2, 6, 1, 3, 1, 1, 3, 6, 6, 8, 4, 2, 3, 0, 1, 4, 4, 1, 8, 8, 9, 7, 6, 7, 5, 1, 9, 2, 5, 9, 1, 4, 3, 9, 4, 6, 9, 8, 5, 0, 8, 4, 7, 0, 0, 8, 0, 4, 7, 0, 2, 2, 7, 9, 6, 9, 5, 6, 1, 1, 1, 4, 8, 7, 9, 6, 2, 2, 2, 8, 5, 7, 1, 1, 1, 2, 9, 1, 8, 1, 3, 7, 1, 0, 6, 4, 7, 6, 5, 9, 1, 2, 8, 8, 4, 4, 3, 7, 1, 7, 9, 2, 8, 8, 6, 1, 3, 4, 5, 6, 8, 7, 0, 0, 1, 5, 4, 5, 5, 7, 3, 2, 0, 9, 9, 4, 9, 5, 0, 3, 6, 3, 3, 1, 7, 4, 0, 0, 2, 7, 7, 1, 8, 7, 4, 5, 0, 1, 9, 7, 4, 5, 0, 9, 8, 6, 3, 3, 1, 6, 8, 8, 0, 9, 9, 1, 7, 3, 7, 4, 0, 3, 0, 4, 9, 9, 3, 8, 0, 9, 0, 1, 6, 1, 2, 0, 2, 5, 7, 0, 6, 9, 7, 2, 2, 5, 3, 6, 4, 3, 2, 5, 9, 3, 5, 2, 9, 5, 4, 1, 7, 2, 5, 3, 9, 7, 2, 4, 0, 8, 1, 9, 7, 8, 4, 6, 6, 3, 0, 6, 7, 0, 6, 0, 2, 2, 3, 0, 0, 3, 3, 4, 2, 1, 4, 3, 3, 0, 0, 3, 2, 4, 1, 5, 9, 2, 4, 9, 5, 8, 9, 9, 9, 1, 1, 0, 0, 9, 0, 8, 2, 0, 9, 8, 6, 2, 3, 7, 0, 6, 3, 8, 1, 9, 2, 0, 9, 2, 8, 9, 4, 3, 6, 0, 2, 0, 6, 5, 3, 4, 1, 2, 2, 4, 9, 4, 3, 2, 1, 9, 1, 6, 1, 0, 3, 4, 0, 1, 9, 4, 0, 0, 4, 8, 1, 9, 2, 3, 3, 4, 3, 7, 0, 7, 9, 7, 4, 5, 9, 7, 7, 0, 4, 2, 2, 7, 8, 5, 0, 4, 9, 8, 8, 2, 4, 1, 4, 1, 4, 1, 0, 9, 9, 5, 6, 4, 9, 2, 2, 6, 0, 3, 0, 2, 3, 0, 4, 0, 1, 0, 8, 4, 9, 3, 7, 1, 4, 1, 7, 6, 0, 7, 7, 1, 5, 0, 3, 6, 0, 2, 8, 4, 8, 5, 7, 7, 2, 9, 6, 7, 8, 1, 6, 7, 3, 1, 7, 3, 1, 8, 0, 1, 0, 4, 3, 7, 2, 9, 7, 9, 3, 6, 2, 3, 4, 1, 3, 0, 9, 9, 2, 6, 4, 0, 0, 7, 5, 1, 8, 3, 8, 1, 6, 5, 8, 9, 2, 2, 0, 7, 1, 6, 7, 1, 6, 8, 4, 3, 5, 9, 1, 3, 5, 3, 1, 9, 2, 5, 8, 6, 3, 6, 0, 9, 2, 5, 1, 3, 7, 4, 4, 4, 1, 0, 6, 3, 1, 0, 4, 3, 6, 1, 7, 6, 2, 7, 1, 7, 0, 6, 9, 6, 5, 1, 3, 6, 8, 1, 9, 8, 6, 6, 9, 3, 6, 8, 2, 4, 0, 6, 1, 8, 5, 1, 4, 0, 9, 9, 9, 4, 8, 4, 1, 6, 4, 9, 1, 8, 9, 2, 3, 4, 6, 1, 0, 1, 6, 7, 9, 0, 0, 8, 1, 4, 2, 5, 2, 8, 4, 6, 9, 7, 1, 8, 5, 5, 4, 9, 3, 3, 5, 3, 0, 0, 5, 9, 2, 5, 3, 7, 6, 5, 9, 6, 5, 0, 2, 1, 3, 8, 5, 7, 7, 0, 7, 7, 1, 5, 6, 7, 0, 4, 3, 0, 0, 0, 0, 7, 6, 8, 8, 6, 7, 1, 3, 1, 0, 2, 3, 5, 1, 8, 6, 1, 7, 6, 3, 6, 6, 8, 3, 8, 5, 1, 5, 2, 6, 5, 1, 5, 8, 3, 5, 5, 3, 2, 3, 8, 5, 8, 6, 7, 0, 3, 8, 8, 4, 2, 6, 4, 5, 8, 3, 0, 5, 1, 1, 3, 0, 9, 6, 7, 8, 2, 5, 3, 6, 2, 0, 6, 5, 1, 2, 9, 9, 0, 2, 5, 5, 6, 1, 4, 1, 3, 1, 5, 5, 0, 1, 9, 3, 9, 5, 0, 7, 9, 8, 3, 0, 1, 3, 5, 5, 1, 8, 5, 7, 0, 9, 6, 4, 8, 3, 0, 6, 0, 4, 5, 8, 2, 1, 5, 4, 0, 1, 4, 1, 7, 3, 9, 2, 9, 1, 2, 1, 7, 6, 6, 1, 5, 9, 8, 9, 0, 2, 3, 1, 7, 0, 1, 5, 2, 7, 3, 2, 5, 9, 2, 4, 0, 5, 1, 5, 9, 1, 0, 9, 4, 5, 4, 8, 7, 1, 3, 3, 2, 4, 1, 1, 8, 0, 3, 2, 9, 9, 0, 9, 7, 0, 9, 9, 2, 7, 6, 1, 7, 1, 6, 0, 2, 9, 9, 9, 7, 8, 2, 4, 0, 9, 3, 8, 9, 4, 2, 0, 3, 3, 0, 3, 9, 4, 8, 5, 5, 6, 9, 6, 8, 4, 7, 6, 7, 4, 9, 4, 2, 1, 0, 8, 1, 3, 6, 0, 1, 9, 9, 6, 9, 5, 0, 7, 1, 3, 6, 7, 3, 3, 4, 8, 4, 7, 9, 1, 2, 9, 5, 7, 4, 3, 9, 3, 9, 5, 0, 7, 9, 2, 2, 1, 8, 3, 2, 7, 8, 7, 1, 2, 8, 7, 4, 7, 0, 9, 4, 0, 0, 3, 3, 4, 2, 0, 7, 6, 3, 2, 7, 4, 1, 2, 7, 4, 4, 2, 3, 7, 5, 8, 0, 5, 7, 9, 7, 1, 3, 5, 4, 2, 4, 7, 9, 9, 6, 4, 5, 4, 9, 1, 9, 6, 5, 6, 2, 8, 6, 8, 3, 8, 9, 6, 8, 8, 6, 4, 0, 2, 0, 1, 3, 8, 4, 8, 7, 7, 7, 8, 0, 7, 9, 5, 3, 3, 7, 4, 6, 4, 7, 2, 9, 6, 4, 0, 4, 6, 8, 8, 4, 9, 4, 4, 3, 6, 9, 6, 4, 1, 8, 5, 7, 8, 5, 2, 8, 8, 7, 0, 5, 0, 7, 2, 3, 4, 7, 8, 1, 5, 5, 3, 5, 2, 5, 0, 5, 6, 4, 7, 4, 1, 1, 9, 1, 9, 9, 4, 8, 4, 3, 7, 6, 2, 0, 1, 8, 9, 6, 7, 4, 5, 7, 5, 3, 1, 6, 0, 3, 2, 4, 5, 1, 8, 1, 1, 8, 5, 8, 5, 8, 5, 2, 7, 0, 1, 5, 1, 9, 0, 9, 9, 2, 0, 7, 3, 1, 3, 4, 7, 8, 0, 1, 2, 9, 3, 2, 6, 2, 0, 5, 0, 1, 6, 1, 9, 7, 7, 8, 6, 8, 4, 0, 7, 1, 0, 1, 3, 4, 9, 0, 9, 4, 5, 1, 6, 9, 4, 6, 6, 6, 1, 1, 3, 5, 8, 2, 4, 8, 8, 9, 8, 1, 1, 1, 8, 3, 5, 6, 5, 6, 2, 8, 7, 9, 8, 1, 9, 9, 0, 6, 6, 2, 3, 8, 3, 0, 0, 5, 0, 9, 2, 1, 3, 3, 3, 8, 8, 9, 9, 9, 5, 6, 7, 1, 7, 2, 9, 1, 6, 3, 5, 0, 7, 7, 6, 5, 1, 8, 1, 3, 4, 5, 8, 2, 4, 2, 8, 0, 4, 5, 1, 9, 7, 4, 2, 8, 8, 5, 8, 6, 8, 7, 4, 9, 7, 4, 4, 2, 6, 9, 1, 9, 9, 0, 6, 8, 3, 3, 6, 4, 6, 6, 8, 1, 7, 4, 3, 7, 2, 8, 5, 1, 2, 6, 8, 0, 0, 1, 7, 8, 4, 9, 6, 0, 7, 3, 9, 9, 2, 7, 4, 2, 0, 5, 2, 6, 4, 1, 7, 3, 0, 4, 3, 1, 6, 1, 4, 7, 2, 1, 0, 3, 3, 9, 0, 9, 6, 6, 0, 2, 8, 3, 0, 5, 8, 8, 5, 3, 5, 0, 8, 0, 7, 3, 3, 2, 5, 1, 1, 6, 5, 4, 7, 2, 2, 9, 0, 8, 2, 0, 5, 0, 8, 0, 4, 1, 6, 7, 7, 8, 5, 0, 2, 6, 4, 6, 8, 9, 6, 6, 4, 9, 4, 3, 7, 6, 3, 1, 7, 6, 1, 4, 9, 0, 6, 6, 3, 2, 0, 3, 4, 3, 1, 8, 1, 3, 3, 0, 6, 6, 8, 6, 2, 3, 3, 4, 2, 0, 6, 0, 2, 1, 9, 6, 6, 1, 7, 7, 0, 2, 9, 4]\n"
          ],
          "name": "stdout"
        }
      ]
    },
    {
      "cell_type": "code",
      "metadata": {
        "id": "CjOPkJCGbcnN",
        "colab_type": "code",
        "colab": {
          "base_uri": "https://localhost:8080/",
          "height": 34
        },
        "outputId": "dd9c782d-0a7a-43d7-dcda-5d2af2bda6ab"
      },
      "source": [
        "guesses_4 = []\n",
        "# \n",
        "for x in range(6000,8000):\n",
        "  query_a = test_matrix[x]\n",
        "  guesses_4.append(my_knn(query_a, 5, train))"
      ],
      "execution_count": 0,
      "outputs": [
        {
          "output_type": "stream",
          "text": [
            "15075856170665936421178593376152125705266910552463094947004092711211633581820384168584358671619843931788317865460930062675100093804594232720262288851226202214341970565182539066921048457922"
          ],
          "name": "stdout"
        }
      ]
    },
    {
      "cell_type": "code",
      "metadata": {
        "id": "NVcdrYfxnCw5",
        "colab_type": "code",
        "colab": {}
      },
      "source": [
        "print(guesses_4)"
      ],
      "execution_count": 0,
      "outputs": []
    },
    {
      "cell_type": "code",
      "metadata": {
        "id": "L5_2RWX0FDf3",
        "colab_type": "code",
        "colab": {}
      },
      "source": [
        "m_1 = [2, 0, 9, 9, 3, 7, 0, 3, 0, 3, 5, 7, 4, 0, 4, 3, 3, 1, 9, 0, 9, 1, 1, 5, 7, 4, 2, 7, 7, 7, 7, 5, 4, 2, 6, 2, 5, 5, 1, 6, 7, 7, 4, 9, 8, 7, 8, 2, 6, 7, 6, 8, 8, 3, 8, 2, 1, 2, 2, 0, 4, 1, 7, 0, 0, 0, 1, 9, 0, 1, 6, 5, 8, 8, 2, 8, 8, 9, 2, 3, 5, 4, 1, 0, 9, 2, 4, 3, 6, 7, 2, 0, 6, 6, 1, 4, 3, 9, 7, 4, 0, 9, 2, 0, 7, 3, 0, 5, 0, 8, 0, 0, 4, 7, 1, 7, 1, 1, 3, 3, 3, 7, 2, 8, 6, 3, 8, 7, 8, 4, 3, 5, 6, 0, 0, 0, 3, 1, 3, 6, 4, 3, 4, 5, 5, 8, 7, 7, 2, 8, 4, 3, 5, 6, 5, 3, 7, 5, 7, 8, 3, 0, 4, 5, 1, 2, 7, 6, 3, 0, 2, 7, 8, 6, 1, 3, 7, 4, 1, 2, 4, 8, 5, 2, 4, 9, 2, 1, 6, 0, 6, 1, 4, 9, 6, 0, 9, 7, 6, 9, 1, 9, 0, 9, 9, 0, 8, 4, 6, 2, 0, 9, 3, 6, 7, 2, 1, 6, 3, 4, 2, 3, 1, 0, 2, 0, 4, 6, 1, 0, 0, 4, 9, 1, 7, 3, 2, 3, 8, 6, 8, 6, 2, 8, 5, 5, 9, 8, 3, 5, 9, 7, 1, 3, 8, 4, 5, 1, 4, 5, 6, 3, 3, 5, 7, 0, 6, 8, 3, 1, 6, 0, 6, 3, 9, 5, 1, 5, 8, 4, 0, 9, 2, 0, 5, 3, 7, 1, 9, 9, 5, 7, 7, 9, 9, 6, 3, 0, 3, 3, 6, 9, 8, 2, 6, 2, 7, 1, 4, 5, 8, 5, 9, 0, 0, 3, 9, 4, 1, 8, 4, 1, 1, 9, 8, 4, 5, 1, 5, 3, 6, 3, 1, 3, 0, 9, 0, 0, 6, 0, 6, 3, 1, 8, 6, 0, 6, 5, 2, 2, 6, 7, 7, 2, 5, 8, 5, 9, 2, 7, 8, 6, 3, 8, 4, 2, 3, 8, 1, 6, 4, 5, 7, 9, 7, 6, 9, 5, 3, 7, 6, 5, 5, 4, 2, 6, 2, 1, 3, 7, 1, 7, 9, 9, 6, 1, 1, 1, 7, 3, 9, 7, 6, 1, 1, 1, 9, 3, 8, 5, 5, 0, 4, 1, 2, 3, 1, 1, 3, 5, 9, 6, 6, 5, 3, 1, 4, 7, 4, 7, 4, 8, 5, 2, 6, 1, 3, 9, 5, 0, 8, 4, 7, 4, 4, 4, 1, 5, 3, 9, 9, 7, 6, 9, 5, 9, 2, 3, 5, 6, 1, 7, 5, 0, 5, 1, 7, 4, 4, 1, 1, 4, 9, 5, 6, 0, 1, 3, 1, 0, 4, 8, 1, 2, 7, 9, 4, 8, 3, 7, 7, 4, 2, 4, 2, 7, 6, 3, 2, 0, 6, 5, 9, 4, 1, 8, 3, 3, 0, 2, 7, 6, 8, 7, 5, 3, 5, 7, 4, 3, 6, 9, 0, 7, 7, 1, 0, 1, 1, 7, 0, 5, 3, 8, 3, 5, 6, 5, 7, 3, 0, 2, 8, 2, 0, 3, 0, 9, 2, 1, 1, 3, 0, 5, 0, 0, 7, 5, 6, 2, 0, 3, 8, 1, 6, 5, 4, 1, 1, 4, 6, 5, 3, 6, 0, 4, 8, 2, 4, 2, 5, 1, 7, 6, 9, 1, 7, 3, 8, 0, 8, 8, 4, 5, 3, 6, 6, 6, 0, 3, 5, 1, 7, 1, 6, 2, 8, 5, 6, 4, 7, 4, 3, 3, 2, 4, 7, 0, 0, 9, 8, 5, 9, 4, 0, 8, 1, 3, 6, 2, 6, 1, 8, 6, 1, 4, 7, 7, 8, 3, 0, 9, 9, 6, 7, 7, 4, 8, 1, 8, 4, 8, 0, 2, 8, 2, 4, 3, 3, 7, 2, 3, 4, 0, 4, 8, 1, 3, 3, 6, 3, 9, 4, 3, 8, 7, 7, 2, 6, 0, 6, 9, 8, 1, 1, 3, 4, 6, 9, 9, 2, 6, 0, 1, 8, 4, 3, 9, 8, 8, 4, 0, 5, 0, 6, 0, 4, 4, 6, 5, 1, 8, 1, 5, 3, 6, 2, 3, 7, 8, 9, 3, 1, 0, 1, 6, 6, 4, 7, 5, 7, 1, 3, 2, 7, 7, 1, 5, 1, 5, 4, 4, 3, 4, 3, 9, 0, 7, 8, 6, 4, 9, 4, 4, 1, 4, 7, 1, 1, 8, 7, 0, 4, 0, 4, 0, 0, 5, 1, 8, 6, 5, 0, 1, 5, 3, 4, 6, 3, 1, 1, 6, 9, 8, 3, 5, 5, 4, 8, 5, 5, 0, 4, 0, 4, 3, 1, 6, 9, 9, 1, 1, 3, 3, 1, 4, 9, 6, 9, 1, 5, 4, 2, 3, 2, 4, 0, 9, 7, 4, 3, 0, 5, 0, 1, 9, 0, 4, 5, 2, 8, 0, 5, 9, 3, 9, 6, 1, 5, 5, 1, 9, 0, 8, 4, 6, 7, 2, 8, 5, 8, 9, 7, 7, 2, 8, 1, 3, 4, 5, 0, 4, 1, 4, 2, 3, 6, 9, 2, 3, 4, 5, 4, 2, 3, 5, 1, 1, 0, 1, 4, 9, 1, 1, 2, 7, 1, 5, 4, 9, 1, 7, 6, 0, 4, 2, 9, 4, 1, 1, 5, 3, 5, 7, 4, 7, 8, 3, 2, 7, 2, 0, 4, 7, 1, 6, 4, 6, 1, 5, 7, 3, 5, 9, 4, 7, 9, 6, 6, 3, 3, 2, 1, 4, 5, 3, 7, 7, 9, 5, 6, 2, 6, 1, 0, 9, 3, 2, 9, 2, 6, 7, 5, 2, 3, 2, 8, 3, 0, 2, 7, 9, 4, 0, 9, 5, 1, 8, 8, 5, 3, 2, 9, 6, 7, 0, 8, 0, 7, 4, 5, 8, 7, 9, 7, 7, 0, 5, 3, 2, 1, 9, 0, 6, 8, 3, 6, 2, 2, 9, 0, 7, 0, 7, 1, 3, 4, 6, 3, 9, 2, 6, 3, 7, 3, 7, 2, 3, 4, 9, 5, 9, 9, 6, 2, 6, 1, 5, 5, 1, 9, 1, 8, 9, 4, 5, 9, 5, 2, 0, 1, 6, 1, 9, 2, 2, 7, 7, 6, 6, 2, 6, 3, 5, 9, 1, 1, 3, 6, 3, 0, 0, 6, 0, 9, 4, 7, 0, 5, 9, 0, 8, 7, 6, 9, 2, 6, 1, 2, 9, 3, 0, 2, 3, 7, 7, 6, 6, 3, 1, 3, 1, 0, 1, 7, 6, 5, 3, 3, 3, 4, 2, 9, 1, 8, 2, 0, 6, 4, 6, 7, 2, 4, 1, 0, 5, 2, 6, 4, 9, 8, 5, 4, 1, 6, 3, 9, 6, 1, 2, 0, 8, 8, 0, 3, 6, 8, 7, 7, 7, 6, 0, 2, 1, 2, 8, 4, 5, 5, 3, 8, 7, 8, 4, 7, 4, 4, 1, 8, 0, 9, 1, 9, 0, 6, 4, 1, 2, 4, 5, 8, 2, 9, 1, 8, 2, 2, 7, 2, 5, 3, 8, 9, 9, 0, 7, 0, 3, 5, 9, 7, 3, 3, 8, 8, 9, 3, 2, 5, 4, 4, 8, 3, 0, 1, 7, 9, 6, 4, 0, 4, 7, 8, 4, 5, 9, 6, 7, 8, 2, 0, 0, 5, 0, 5, 9, 4, 9, 7, 5, 4, 3, 7, 5, 4, 1, 9, 5, 4, 9, 9, 5, 7, 8, 0, 4, 7, 4, 3, 3, 6, 6, 0, 4, 5, 5, 7, 6, 5, 5, 1, 7, 4, 2, 2, 1, 9, 9, 8, 1, 1, 3, 1, 0, 0, 4, 0, 2, 7, 6, 1, 4, 7, 0, 7, 1, 0, 3, 3, 1, 9, 8, 4, 6, 5, 9, 8, 6, 3, 6, 6, 6, 1, 1, 4, 0, 7, 8, 0, 4, 6, 7, 9, 5, 9, 6, 2, 4, 7, 5, 9, 8, 5, 1, 8, 0, 3, 6, 8, 1, 3, 0, 3, 1, 9, 1, 4, 5, 8, 2, 2, 9, 1, 3, 3, 0, 5, 6, 1, 8, 3, 6, 7, 2, 3, 2, 9, 2, 1, 5, 9, 8, 7, 3, 8, 4, 5, 8, 2, 1, 6, 7, 6, 1, 1, 0, 5, 0, 9, 1, 7, 4, 0, 9, 7, 5, 9, 8, 8, 7, 5, 4, 3, 7, 9, 4, 7, 2, 7, 4, 1, 5, 8, 2, 3, 5, 9, 8, 4, 5, 9, 1, 5, 1, 1, 3, 7, 5, 1, 7, 9, 2, 3, 6, 8, 8, 5, 0, 8, 9, 4, 7, 1, 9, 6, 8, 9, 4, 9, 9, 6, 3, 2, 7, 4, 8, 0, 4, 9, 0, 8, 8, 7, 0, 9, 0, 8, 7, 0, 8, 5, 3, 3, 6, 2, 5, 3, 1, 7, 3, 1, 0, 6, 5, 9, 3, 2, 9, 4, 8, 8, 7, 6, 4, 4, 0, 7, 5, 9, 6, 7, 3, 8, 9, 5, 0, 8, 6, 0, 3, 0, 1, 8, 3, 8, 6, 0, 1, 0, 0, 7, 3, 6, 9, 2, 3, 1, 7, 7, 9, 5, 9, 9, 1, 1, 5, 8, 3, 2, 5, 4, 1, 8, 4, 0, 7, 0, 9, 0, 0, 7, 1, 3, 5, 5, 8, 9, 7, 9, 4, 6, 0, 1, 9, 2, 7, 4, 8, 5, 0, 5, 9, 8, 7, 5, 0, 1, 9, 9, 6, 3, 0, 8, 7, 5, 2, 6, 1, 7, 2, 3, 8, 8, 1, 4, 6, 2, 4, 0, 2, 3, 6, 3, 3, 2, 9, 1, 3, 2, 5, 8, 7, 7, 6, 2, 0, 3, 2, 8, 1, 5, 4, 3, 3, 1, 9, 3, 2, 1, 1, 3, 6, 1, 9, 4, 4, 9, 6, 6, 7, 5, 9, 6, 6, 1, 0, 7, 8, 8, 8, 3, 7, 7, 7, 1, 4, 6, 1, 0, 0, 1, 7, 7, 8, 8, 9, 8, 2, 4, 8, 1, 3, 6, 1, 3, 3, 6, 6, 5, 8, 8, 5, 4, 5, 9, 8, 2, 0, 1, 3, 3, 5, 6, 3, 3, 6, 1, 3, 3, 7, 1, 5, 6, 5, 1, 7, 4, 5, 9, 0, 2, 3, 0, 9, 5, 3, 0, 8, 0, 7, 7, 1, 5, 4, 4, 9, 7, 0, 3, 1, 3, 3, 6, 2, 4, 2, 1, 6, 5, 9, 3, 4, 1, 9, 4, 0, 3, 5, 1, 0, 0, 5, 3, 9, 4, 9, 1, 0, 0, 5, 7, 1, 6, 8, 3, 7, 0, 3, 8, 2, 8, 6, 7, 9, 1, 8, 4, 5, 3, 1, 5, 2, 2, 5, 3, 8, 8, 2, 7, 4, 8, 5, 7, 0, 6, 6, 2, 3, 2, 2, 9, 1, 9, 6, 9, 2, 2, 6, 0, 4, 0, 0, 0, 0, 3, 0, 4, 3, 6, 7, 8, 6, 0, 5, 1, 8, 5, 6, 0, 2, 7, 6, 1, 3, 9, 9, 3, 0, 3, 5, 9, 6, 8, 3, 1, 0, 0, 9, 0, 6, 6, 2, 4, 3, 0, 2, 7, 1, 5, 8, 5, 8, 8, 4, 7, 4, 3, 6, 5, 7, 3, 1, 6, 7, 1, 3, 1, 8, 5, 1, 5, 2, 2, 6, 9, 0, 2, 1, 2, 7, 4, 4, 9, 3, 0, 4, 5, 1, 9, 6, 9, 7, 6, 5, 0, 6, 1, 3, 8, 4, 0, 0, 0, 3, 7, 9, 8, 6, 9, 9, 1, 5, 0, 9, 1, 7, 9, 0, 8, 9, 0, 6, 9, 2, 4, 2, 1, 9, 4, 4, 8, 8, 6, 5, 6, 1, 3, 5, 9, 3, 9, 7, 0, 7, 6, 5, 8, 6, 6, 0, 7, 4, 5, 3, 7, 7, 8, 5, 5, 5, 5, 3, 6, 8, 3, 6, 1, 9, 8, 0, 9, 4, 4, 5, 8, 4, 0, 9, 3, 0, 9, 4, 6, 4, 0, 2, 0, 1, 7, 5, 9, 8, 7, 8, 6, 2, 0, 0, 3, 7]\n",
        "m_2 = [8, 6, 1, 6, 7, 2, 5, 9, 7, 1, 1, 4, 1, 6, 6, 7, 0, 8, 4, 7, 0, 9, 4, 6, 2, 6, 7, 3, 2, 9, 6, 5, 2, 5, 8, 5, 6, 3, 2, 2, 7, 7, 3, 4, 9, 2, 8, 0, 2, 4, 0, 9, 4, 5, 8, 8, 9, 3, 3, 5, 9, 0, 7, 0, 5, 5, 2, 9, 1, 9, 9, 4, 6, 4, 6, 8, 9, 0, 0, 8, 2, 1, 6, 8, 2, 3, 0, 2, 5, 5, 7, 3, 3, 5, 9, 6, 2, 3, 4, 3, 7, 7, 9, 2, 6, 6, 9, 5, 8, 0, 6, 7, 4, 2, 2, 4, 0, 6, 2, 1, 9, 2, 6, 7, 5, 6, 7, 0, 6, 8, 2, 4, 4, 5, 7, 6, 8, 1, 4, 6, 6, 1, 5, 2, 5, 8, 0, 1, 1, 4, 7, 0, 3, 6, 5, 0, 5, 2, 0, 8, 9, 1, 5, 7, 3, 3, 6, 1, 6, 5, 9, 5, 2, 0, 7, 4, 0, 2, 7, 4, 4, 6, 0, 4, 6, 7, 9, 1, 7, 4, 7, 9, 4, 7, 4, 8, 5, 9, 5, 5, 1, 9, 3, 2, 4, 0, 2, 6, 6, 8, 0, 4, 3, 1, 2, 6, 7, 3, 7, 7, 1, 5, 5, 4, 0, 1, 2, 2, 1, 1, 4, 2, 2, 1, 1, 7, 9, 4, 8, 0, 8, 9, 3, 8, 9, 4, 6, 3, 3, 3, 9, 0, 3, 6, 9, 1, 4, 6, 0, 6, 0, 5, 9, 0, 1, 8, 0, 4, 2, 0, 1, 5, 3, 4, 5, 7, 6, 8, 8, 7, 9, 0, 3, 2, 6, 0, 5, 5, 9, 6, 5, 4, 2, 1, 4, 3, 6, 4, 8, 7, 2, 2, 0, 3, 4, 5, 3, 3, 1, 6, 4, 5, 9, 7, 0, 1, 2, 5, 3, 2, 6, 4, 2, 5, 9, 3, 4, 6, 3, 5, 8, 2, 8, 9, 8, 7, 5, 9, 9, 9, 4, 6, 7, 3, 6, 9, 9, 6, 6, 0, 9, 4, 9, 7, 4, 1, 7, 2, 8, 8, 0, 5, 6, 7, 1, 8, 0, 8, 0, 9, 4, 2, 4, 2, 1, 1, 6, 7, 6, 7, 5, 3, 6, 6, 3, 4, 8, 7, 8, 8, 7, 0, 0, 7, 7, 1, 6, 0, 3, 9, 9, 8, 5, 1, 7, 0, 1, 9, 5, 9, 9, 0, 1, 9, 0, 9, 7, 4, 2, 2, 5, 5, 0, 0, 5, 9, 4, 3, 4, 2, 5, 0, 0, 3, 3, 3, 5, 9, 0, 1, 1, 5, 9, 2, 2, 5, 3, 4, 4, 1, 0, 8, 3, 5, 5, 6, 9, 1, 9, 8, 7, 0, 3, 3, 8, 1, 0, 3, 3, 9, 7, 3, 1, 9, 6, 3, 3, 4, 0, 2, 1, 3, 9, 5, 1, 7, 9, 7, 9, 6, 1, 5, 6, 6, 9, 0, 4, 2, 2, 9, 3, 7, 6, 4, 1, 4, 2, 4, 1, 0, 2, 2, 1, 0, 2, 7, 2, 6, 5, 2, 0, 2, 0, 0, 5, 0, 3, 3, 0, 6, 6, 4, 1, 5, 9, 2, 4, 0, 9, 1, 1, 3, 0, 1, 1, 5, 0, 2, 4, 7, 3, 6, 8, 7, 8, 8, 7, 2, 6, 9, 4, 5, 7, 1, 3, 6, 0, 9, 9, 4, 6, 8, 6, 4, 1, 0, 3, 3, 0, 1, 8, 9, 1, 5, 7, 7, 3, 4, 6, 2, 9, 3, 0, 7, 6, 8, 8, 2, 4, 0, 2, 9, 8, 3, 9, 9, 0, 1, 6, 7, 7, 6, 4, 6, 8, 7, 6, 1, 3, 3, 5, 2, 1, 6, 4, 1, 9, 9, 6, 4, 6, 4, 5, 9, 4, 9, 9, 3, 2, 5, 1, 6, 2, 2, 7, 2, 8, 4, 7, 4, 1, 0, 1, 9, 0, 7, 4, 9, 0, 9, 7, 4, 0, 9, 6, 7, 4, 9, 7, 0, 2, 8, 5, 2, 4, 2, 4, 5, 2, 6, 6, 8, 8, 6, 7, 4, 1, 4, 8, 3, 2, 5, 9, 0, 9, 0, 1, 4, 9, 7, 7, 3, 9, 5, 3, 1, 9, 2, 6, 7, 9, 1, 0, 5, 1, 6, 8, 8, 6, 7, 3, 7, 2, 8, 5, 5, 0, 8, 1, 5, 6, 4, 9, 9, 1, 6, 9, 8, 5, 3, 7, 7, 8, 1, 4, 7, 0, 4, 0, 6, 4, 3, 1, 9, 6, 3, 0, 0, 2, 8, 9, 9, 1, 1, 8, 1, 3, 2, 3, 1, 0, 3, 8, 5, 0, 7, 2, 0, 6, 1, 8, 1, 1, 8, 2, 2, 6, 1, 7, 9, 7, 6, 7, 5, 1, 9, 6, 3, 7, 6, 4, 4, 4, 0, 8, 2, 0, 8, 6, 4, 8, 1, 9, 2, 9, 5, 1, 5, 1, 1, 4, 7, 0, 1, 2, 4, 6, 1, 4, 2, 9, 2, 9, 2, 6, 4, 5, 5, 5, 8, 9, 6, 1, 1, 6, 1, 2, 1, 9, 4, 7, 4, 7, 1, 0, 6, 4, 6, 5, 3, 3, 4, 0, 1, 1, 6, 0, 5, 1, 2, 1, 6, 4, 3, 9, 0, 4, 0, 3, 1, 4, 9, 2, 1, 7, 0, 9, 6, 8, 5, 8, 6, 0, 8, 7, 9, 9, 3, 1, 3, 2, 3, 1, 1, 2, 0, 0, 7, 7, 8, 1, 6, 0, 6, 7, 4, 3, 6, 7, 2, 2, 8, 9, 9, 4, 2, 7, 7, 3, 5, 1, 7, 7, 3, 7, 8, 1, 2, 5, 6, 1, 9, 7, 7, 7, 8, 9, 9, 7, 8, 9, 5, 7, 9, 5, 0, 7, 6, 1, 5, 5, 2, 7, 0, 5, 6, 9, 5, 8, 2, 2, 2, 9, 7, 9, 5, 1, 1, 1, 4, 5, 6, 1, 7, 0, 7, 9, 2, 7, 2, 3, 1, 5, 7, 1, 5, 1, 6, 0, 2, 6, 9, 9, 7, 9, 8, 7, 7, 7, 5, 6, 2, 9, 8, 8, 4, 7, 3, 1, 3, 4, 8, 2, 0, 2, 6, 3, 1, 0, 9, 9, 1, 6, 8, 8, 6, 6, 8, 3, 6, 1, 6, 6, 2, 0, 6, 0, 8, 2, 2, 8, 6, 4, 8, 5, 0, 4, 0, 0, 9, 7, 9, 2, 9, 2, 8, 5, 3, 5, 8, 7, 9, 5, 7, 3, 0, 2, 8, 0, 5, 2, 6, 9, 9, 3, 9, 2, 2, 3, 3, 7, 4, 5, 8, 5, 8, 6, 3, 3, 1, 2, 6, 8, 5, 5, 2, 7, 4, 1, 9, 3, 6, 8, 8, 2, 5, 8, 3, 9, 1, 6, 9, 6, 7, 5, 8, 1, 0, 8, 6, 7, 5, 1, 7, 8, 9, 3, 8, 8, 3, 9, 4, 8, 7, 6, 9, 5, 3, 0, 9, 9, 6, 8, 7, 9, 1, 2, 3, 2, 1, 5, 2, 9, 4, 4, 4, 3, 0, 0, 3, 1, 6, 1, 1, 0, 5, 6, 2, 7, 6, 0, 4, 4, 7, 0, 7, 0, 8, 7, 1, 3, 7, 8, 9, 0, 9, 0, 0, 1, 8, 8, 7, 4, 8, 3, 5, 9, 0, 3, 6, 3, 6, 5, 0, 4, 2, 6, 9, 3, 0, 9, 4, 5, 7, 7, 4, 2, 3, 9, 2, 8, 8, 0, 1, 9, 4, 2, 2, 1, 8, 2, 7, 3, 5, 1, 3, 0, 2, 2, 1, 7, 9, 1, 8, 9, 1, 6, 9, 7, 1, 8, 9, 9, 2, 0, 6, 1, 5, 2, 0, 9, 2, 5, 5, 3, 4, 0, 9, 0, 9, 4, 0, 4, 3, 7, 8, 0, 4, 0, 2, 4, 8, 2, 1, 5, 2, 5, 8, 5, 6, 1, 4, 8, 6, 2, 1, 3, 9, 5, 3, 7, 8, 7, 8, 1, 1, 5, 6, 4, 7, 5, 5, 4, 0, 8, 1, 6, 0, 3, 3, 7, 8, 8, 4, 3, 4, 3, 2, 1, 7, 0, 9, 4, 2, 8, 6, 8, 5, 2, 8, 4, 8, 1, 4, 3, 1, 1, 2, 1, 5, 3, 6, 7, 2, 4, 7, 6, 9, 1, 2, 8, 6, 8, 7, 6, 2, 0, 1, 1, 0, 6, 3, 9, 7, 3, 1, 9, 4, 6, 9, 7, 1, 7, 8, 1, 3, 5, 1, 2, 7, 6, 6, 5, 0, 4, 5, 9, 6, 3, 9, 1, 2, 4, 1, 3, 4, 0, 1, 8, 0, 2, 9, 2, 7, 7, 9, 1, 4, 7, 3, 3, 9, 9, 1, 3, 7, 8, 4, 9, 7, 9, 7, 1, 5, 4, 0, 0, 0, 3, 5, 8, 3, 0, 4, 1, 2, 8, 1, 0, 8, 8, 3, 4, 6, 9, 3, 2, 7, 2, 6, 1, 1, 0, 1, 8, 1, 3, 7, 4, 9, 1, 3, 5, 0, 3, 5, 1, 8, 6, 1, 2, 9, 6, 6, 6, 1, 9, 0, 3, 9, 8, 4, 6, 3, 6, 8, 9, 9, 5, 1, 8, 0, 2, 0, 8, 9, 5, 2, 0, 1, 0, 9, 2, 8, 1, 8, 2, 8, 7, 5, 6, 9, 9, 5, 7, 4, 6, 4, 9, 6, 0, 0, 4, 3, 5, 7, 1, 2, 1, 9, 2, 1, 3, 1, 9, 1, 8, 5, 8, 7, 9, 3, 2, 3, 6, 1, 7, 5, 2, 2, 6, 3, 7, 0, 5, 6, 7, 9, 6, 8, 6, 0, 9, 5, 9, 1, 1, 9, 5, 0, 7, 6, 2, 5, 5, 6, 6, 0, 4, 3, 8, 4, 3, 5, 0, 2, 6, 5, 0, 7, 6, 0, 6, 0, 5, 3, 6, 1, 9, 3, 8, 4, 5, 3, 2, 5, 4, 4, 0, 6, 1, 2, 0, 3, 5, 5, 0, 4, 1, 1, 3, 3, 9, 3, 3, 6, 4, 9, 0, 6, 9, 7, 9, 8, 5, 7, 9, 1, 4, 6, 3, 6, 8, 4, 9, 7, 1, 6, 8, 6, 7, 9, 4, 2, 0, 9, 9, 9, 1, 6, 6, 8, 0, 6, 3, 7, 7, 6, 7, 0, 1, 6, 5, 4, 5, 6, 2, 5, 3, 9, 5, 1, 3, 9, 6, 9, 7, 0, 6, 2, 7, 6, 0, 0, 3, 8, 1, 2, 4, 3, 0, 8, 1, 3, 9, 5, 6, 5, 1, 3, 6, 7, 1, 5, 1, 8, 1, 7, 3, 7, 9, 5, 2, 4, 9, 6, 8, 6, 6, 0, 8, 1, 7, 7, 1, 9, 0, 1, 4, 9, 1, 7, 3, 1, 6, 2, 2, 7, 2, 4, 1, 5, 6, 1, 3, 3, 2, 2, 9, 1, 7, 4, 8, 6, 5, 6, 3, 8, 1, 3, 9, 5, 6, 7, 5, 3, 3, 7, 7, 1, 8, 0, 6, 3, 9, 3, 3, 6, 0, 2, 0, 1, 0, 1, 1, 3, 2, 2, 9, 0, 3, 8, 1, 0, 5, 9, 8, 3, 3, 1, 3, 6, 5, 2, 7, 7, 9, 8, 5, 7, 1, 7, 4, 3, 9, 4, 4, 3, 2, 0, 0, 0, 3, 1, 1, 4, 3, 4, 2, 2, 7, 8, 4, 7, 4, 0, 4, 9, 1, 0, 7, 1, 2, 1, 6, 2, 4, 0, 4, 6, 0, 5, 1, 4, 2, 6, 2, 9, 7, 3, 4, 3, 9, 0, 1, 4, 8, 6, 2, 1, 1, 7, 3, 2, 9, 2, 2, 5, 2, 1, 0, 2, 5, 0, 0, 0, 4, 2, 7, 3, 0, 2, 1, 9, 0, 8, 5, 3, 8, 2, 2, 0, 2, 7, 0, 4, 0, 3, 0, 2, 2, 8, 0, 9, 2, 3, 0, 2, 4, 8, 7, 1, 4, 2, 2, 1, 6, 7, 6, 6, 3, 3, 6, 7, 3, 9, 1, 2, 3, 5, 0, 1, 0, 9, 7, 9, 0, 8, 5, 1, 4, 7, 6, 4, 8, 1, 2, 2, 6, 4, 2, 9, 8, 2, 6, 5, 8, 3, 1, 7]\n",
        "m_3 = [4, 6, 0, 1, 3, 8, 1, 4, 0, 8, 6, 6, 1, 6, 2, 3, 9, 1, 5, 6, 6, 1, 4, 0, 3, 6, 0, 5, 6, 8, 9, 4, 7, 7, 7, 8, 8, 7, 5, 2, 7, 8, 1, 1, 9, 5, 4, 1, 0, 1, 3, 2, 3, 6, 3, 3, 1, 2, 7, 1, 7, 7, 0, 0, 3, 0, 0, 2, 0, 0, 7, 1, 7, 8, 6, 6, 7, 1, 6, 6, 9, 4, 9, 1, 3, 4, 0, 4, 9, 2, 4, 6, 2, 7, 4, 7, 5, 0, 3, 7, 5, 6, 6, 9, 0, 3, 5, 2, 8, 9, 8, 2, 2, 9, 7, 1, 7, 7, 2, 7, 3, 2, 2, 8, 4, 0, 2, 2, 8, 1, 1, 2, 2, 2, 3, 0, 1, 6, 3, 9, 4, 3, 9, 7, 9, 0, 7, 3, 5, 2, 3, 0, 1, 9, 9, 7, 9, 2, 7, 4, 7, 0, 6, 5, 1, 9, 5, 2, 7, 2, 2, 5, 6, 8, 5, 8, 2, 3, 3, 1, 4, 7, 3, 8, 4, 8, 7, 4, 1, 9, 0, 4, 8, 0, 6, 5, 6, 5, 2, 0, 3, 3, 1, 6, 1, 4, 1, 1, 1, 1, 3, 9, 1, 0, 4, 2, 9, 5, 5, 9, 5, 5, 2, 5, 0, 8, 0, 4, 2, 4, 3, 8, 7, 9, 4, 0, 1, 4, 9, 4, 4, 3, 2, 0, 8, 4, 1, 0, 9, 3, 2, 4, 6, 9, 0, 6, 1, 1, 7, 4, 7, 8, 7, 3, 7, 0, 1, 8, 4, 2, 5, 4, 8, 9, 1, 0, 2, 7, 7, 9, 4, 4, 7, 6, 9, 4, 1, 7, 8, 8, 3, 4, 2, 4, 1, 8, 7, 8, 7, 4, 9, 4, 7, 3, 6, 9, 1, 6, 1, 0, 1, 8, 1, 6, 9, 3, 3, 6, 5, 5, 8, 1, 9, 2, 3, 7, 9, 9, 2, 9, 8, 3, 4, 5, 1, 4, 9, 6, 1, 3, 5, 6, 9, 6, 5, 3, 5, 4, 5, 0, 2, 6, 8, 9, 9, 9, 6, 6, 7, 5, 8, 2, 0, 9, 5, 0, 1, 9, 7, 2, 3, 3, 0, 4, 8, 3, 1, 3, 9, 0, 3, 8, 4, 9, 4, 6, 8, 9, 6, 9, 0, 8, 6, 5, 0, 4, 8, 6, 0, 0, 9, 1, 4, 2, 5, 6, 3, 8, 8, 8, 8, 2, 4, 2, 7, 6, 4, 7, 8, 6, 9, 8, 6, 3, 5, 4, 3, 9, 9, 3, 0, 8, 2, 9, 1, 6, 9, 1, 0, 1, 8, 7, 6, 5, 5, 4, 1, 7, 3, 9, 1, 1, 2, 3, 9, 0, 7, 2, 2, 4, 1, 7, 7, 7, 8, 3, 5, 1, 6, 2, 1, 0, 8, 7, 2, 5, 1, 1, 8, 6, 9, 6, 6, 9, 8, 1, 7, 4, 9, 1, 6, 7, 8, 0, 7, 6, 1, 6, 8, 1, 3, 9, 0, 7, 5, 3, 2, 7, 0, 6, 1, 4, 0, 9, 7, 0, 6, 5, 1, 7, 0, 1, 6, 6, 1, 4, 8, 6, 8, 9, 5, 1, 0, 2, 2, 0, 7, 8, 3, 5, 1, 8, 3, 7, 6, 9, 8, 4, 9, 1, 0, 3, 3, 5, 9, 2, 7, 6, 3, 3, 8, 0, 0, 9, 7, 5, 5, 0, 3, 0, 7, 2, 1, 0, 7, 1, 5, 7, 0, 2, 5, 4, 2, 6, 1, 3, 1, 1, 3, 6, 6, 8, 4, 2, 3, 0, 1, 4, 4, 1, 8, 8, 9, 7, 6, 7, 5, 1, 9, 2, 5, 9, 1, 4, 3, 9, 4, 6, 9, 8, 5, 0, 8, 4, 7, 0, 0, 8, 0, 4, 7, 0, 2, 2, 7, 9, 6, 9, 5, 6, 1, 1, 1, 4, 8, 7, 9, 6, 2, 2, 2, 8, 5, 7, 1, 1, 1, 2, 9, 1, 8, 1, 3, 7, 1, 0, 6, 4, 7, 6, 5, 9, 1, 2, 8, 8, 4, 4, 3, 7, 1, 7, 9, 2, 8, 8, 6, 1, 3, 4, 5, 6, 8, 7, 0, 0, 1, 5, 4, 5, 5, 7, 3, 2, 0, 9, 9, 4, 9, 5, 0, 3, 6, 3, 3, 1, 7, 4, 0, 0, 2, 7, 7, 1, 8, 7, 4, 5, 0, 1, 9, 7, 4, 5, 0, 9, 8, 6, 3, 3, 1, 6, 8, 8, 0, 9, 9, 1, 7, 3, 7, 4, 0, 3, 0, 4, 9, 9, 3, 8, 0, 9, 0, 1, 6, 1, 2, 0, 2, 5, 7, 0, 6, 9, 7, 2, 2, 5, 3, 6, 4, 3, 2, 5, 9, 3, 5, 2, 9, 5, 4, 1, 7, 2, 5, 3, 9, 7, 2, 4, 0, 8, 1, 9, 7, 8, 4, 6, 6, 3, 0, 6, 7, 0, 6, 0, 2, 2, 3, 0, 0, 3, 3, 4, 2, 1, 4, 3, 3, 0, 0, 3, 2, 4, 1, 5, 9, 2, 4, 9, 5, 8, 9, 9, 9, 1, 1, 0, 0, 9, 0, 8, 2, 0, 9, 8, 6, 2, 3, 7, 0, 6, 3, 8, 1, 9, 2, 0, 9, 2, 8, 9, 4, 3, 6, 0, 2, 0, 6, 5, 3, 4, 1, 2, 2, 4, 9, 4, 3, 2, 1, 9, 1, 6, 1, 0, 3, 4, 0, 1, 9, 4, 0, 0, 4, 8, 1, 9, 2, 3, 3, 4, 3, 7, 0, 7, 9, 7, 4, 5, 9, 7, 7, 0, 4, 2, 2, 7, 8, 5, 0, 4, 9, 8, 8, 2, 4, 1, 4, 1, 4, 1, 0, 9, 9, 5, 6, 4, 9, 2, 2, 6, 0, 3, 0, 2, 3, 0, 4, 0, 1, 0, 8, 4, 9, 3, 7, 1, 4, 1, 7, 6, 0, 7, 7, 1, 5, 0, 3, 6, 0, 2, 8, 4, 8, 5, 7, 7, 2, 9, 6, 7, 8, 1, 6, 7, 3, 1, 7, 3, 1, 8, 0, 1, 0, 4, 3, 7, 2, 9, 7, 9, 3, 6, 2, 3, 4, 1, 3, 0, 9, 9, 2, 6, 4, 0, 0, 7, 5, 1, 8, 3, 8, 1, 6, 5, 8, 9, 2, 2, 0, 7, 1, 6, 7, 1, 6, 8, 4, 3, 5, 9, 1, 3, 5, 3, 1, 9, 2, 5, 8, 6, 3, 6, 0, 9, 2, 5, 1, 3, 7, 4, 4, 4, 1, 0, 6, 3, 1, 0, 4, 3, 6, 1, 7, 6, 2, 7, 1, 7, 0, 6, 9, 6, 5, 1, 3, 6, 8, 1, 9, 8, 6, 6, 9, 3, 6, 8, 2, 4, 0, 6, 1, 8, 5, 1, 4, 0, 9, 9, 9, 4, 8, 4, 1, 6, 4, 9, 1, 8, 9, 2, 3, 4, 6, 1, 0, 1, 6, 7, 9, 0, 0, 8, 1, 4, 2, 5, 2, 8, 4, 6, 9, 7, 1, 8, 5, 5, 4, 9, 3, 3, 5, 3, 0, 0, 5, 9, 2, 5, 3, 7, 6, 5, 9, 6, 5, 0, 2, 1, 3, 8, 5, 7, 7, 0, 7, 7, 1, 5, 6, 7, 0, 4, 3, 0, 0, 0, 0, 7, 6, 8, 8, 6, 7, 1, 3, 1, 0, 2, 3, 5, 1, 8, 6, 1, 7, 6, 3, 6, 6, 8, 3, 8, 5, 1, 5, 2, 6, 5, 1, 5, 8, 3, 5, 5, 3, 2, 3, 8, 5, 8, 6, 7, 0, 3, 8, 8, 4, 2, 6, 4, 5, 8, 3, 0, 5, 1, 1, 3, 0, 9, 6, 7, 8, 2, 5, 3, 6, 2, 0, 6, 5, 1, 2, 9, 9, 0, 2, 5, 5, 6, 1, 4, 1, 3, 1, 5, 5, 0, 1, 9, 3, 9, 5, 0, 7, 9, 8, 3, 0, 1, 3, 5, 5, 1, 8, 5, 7, 0, 9, 6, 4, 8, 3, 0, 6, 0, 4, 5, 8, 2, 1, 5, 4, 0, 1, 4, 1, 7, 3, 9, 2, 9, 1, 2, 1, 7, 6, 6, 1, 5, 9, 8, 9, 0, 2, 3, 1, 7, 0, 1, 5, 2, 7, 3, 2, 5, 9, 2, 4, 0, 5, 1, 5, 9, 1, 0, 9, 4, 5, 4, 8, 7, 1, 3, 3, 2, 4, 1, 1, 8, 0, 3, 2, 9, 9, 0, 9, 7, 0, 9, 9, 2, 7, 6, 1, 7, 1, 6, 0, 2, 9, 9, 9, 7, 8, 2, 4, 0, 9, 3, 8, 9, 4, 2, 0, 3, 3, 0, 3, 9, 4, 8, 5, 5, 6, 9, 6, 8, 4, 7, 6, 7, 4, 9, 4, 2, 1, 0, 8, 1, 3, 6, 0, 1, 9, 9, 6, 9, 5, 0, 7, 1, 3, 6, 7, 3, 3, 4, 8, 4, 7, 9, 1, 2, 9, 5, 7, 4, 3, 9, 3, 9, 5, 0, 7, 9, 2, 2, 1, 8, 3, 2, 7, 8, 7, 1, 2, 8, 7, 4, 7, 0, 9, 4, 0, 0, 3, 3, 4, 2, 0, 7, 6, 3, 2, 7, 4, 1, 2, 7, 4, 4, 2, 3, 7, 5, 8, 0, 5, 7, 9, 7, 1, 3, 5, 4, 2, 4, 7, 9, 9, 6, 4, 5, 4, 9, 1, 9, 6, 5, 6, 2, 8, 6, 8, 3, 8, 9, 6, 8, 8, 6, 4, 0, 2, 0, 1, 3, 8, 4, 8, 7, 7, 7, 8, 0, 7, 9, 5, 3, 3, 7, 4, 6, 4, 7, 2, 9, 6, 4, 0, 4, 6, 8, 8, 4, 9, 4, 4, 3, 6, 9, 6, 4, 1, 8, 5, 7, 8, 5, 2, 8, 8, 7, 0, 5, 0, 7, 2, 3, 4, 7, 8, 1, 5, 5, 3, 5, 2, 5, 0, 5, 6, 4, 7, 4, 1, 1, 9, 1, 9, 9, 4, 8, 4, 3, 7, 6, 2, 0, 1, 8, 9, 6, 7, 4, 5, 7, 5, 3, 1, 6, 0, 3, 2, 4, 5, 1, 8, 1, 1, 8, 5, 8, 5, 8, 5, 2, 7, 0, 1, 5, 1, 9, 0, 9, 9, 2, 0, 7, 3, 1, 3, 4, 7, 8, 0, 1, 2, 9, 3, 2, 6, 2, 0, 5, 0, 1, 6, 1, 9, 7, 7, 8, 6, 8, 4, 0, 7, 1, 0, 1, 3, 4, 9, 0, 9, 4, 5, 1, 6, 9, 4, 6, 6, 6, 1, 1, 3, 5, 8, 2, 4, 8, 8, 9, 8, 1, 1, 1, 8, 3, 5, 6, 5, 6, 2, 8, 7, 9, 8, 1, 9, 9, 0, 6, 6, 2, 3, 8, 3, 0, 0, 5, 0, 9, 2, 1, 3, 3, 3, 8, 8, 9, 9, 9, 5, 6, 7, 1, 7, 2, 9, 1, 6, 3, 5, 0, 7, 7, 6, 5, 1, 8, 1, 3, 4, 5, 8, 2, 4, 2, 8, 0, 4, 5, 1, 9, 7, 4, 2, 8, 8, 5, 8, 6, 8, 7, 4, 9, 7, 4, 4, 2, 6, 9, 1, 9, 9, 0, 6, 8, 3, 3, 6, 4, 6, 6, 8, 1, 7, 4, 3, 7, 2, 8, 5, 1, 2, 6, 8, 0, 0, 1, 7, 8, 4, 9, 6, 0, 7, 3, 9, 9, 2, 7, 4, 2, 0, 5, 2, 6, 4, 1, 7, 3, 0, 4, 3, 1, 6, 1, 4, 7, 2, 1, 0, 3, 3, 9, 0, 9, 6, 6, 0, 2, 8, 3, 0, 5, 8, 8, 5, 3, 5, 0, 8, 0, 7, 3, 3, 2, 5, 1, 1, 6, 5, 4, 7, 2, 2, 9, 0, 8, 2, 0, 5, 0, 8, 0, 4, 1, 6, 7, 7, 8, 5, 0, 2, 6, 4, 6, 8, 9, 6, 6, 4, 9, 4, 3, 7, 6, 3, 1, 7, 6, 1, 4, 9, 0, 6, 6, 3, 2, 0, 3, 4, 3, 1, 8, 1, 3, 3, 0, 6, 6, 8, 6, 2, 3, 3, 4, 2, 0, 6, 0, 2, 1, 9, 6, 6, 1, 7, 7, 0, 2, 9, 4]\n",
        "\n",
        "guesses = np.concatenate((m_1, m_2, m_3, m_4, m_5, m_6, m_7, m_8, m_9, m_10, m_11, m_12))"
      ],
      "execution_count": 0,
      "outputs": []
    }
  ]
}